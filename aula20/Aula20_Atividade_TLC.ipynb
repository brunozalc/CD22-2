{
 "cells": [
  {
   "cell_type": "markdown",
   "metadata": {},
   "source": [
    "___\n",
    "# Atividade: Uso da Distribuição Amostral da Média via resultado do TLC\n",
    "___\n",
    "## Aula 20"
   ]
  },
  {
   "cell_type": "markdown",
   "metadata": {},
   "source": [
    "<div id=\"indice\"></div>\n",
    "\n",
    "## Índice\n",
    "\n",
    "- [Teoria](#teoria)\n",
    "- [Simulação](#simulacao)\n",
    "    - [Exercício 1](#ex1)\n",
    "    - [Visualizando os dados gerados](#visualizando)\n",
    "    - [Exercício 2](#ex2)\n",
    "    - [Exercício 3](#ex3)\n",
    "    - [Exercício 4](#ex4)\n",
    "    - [Exercício 5](#ex5)\n",
    "\n",
    "___"
   ]
  },
  {
   "cell_type": "code",
   "execution_count": 36,
   "metadata": {},
   "outputs": [],
   "source": [
    "%matplotlib inline\n",
    "%reset -f\n",
    "import matplotlib.pyplot as plt\n",
    "import pandas as pd\n",
    "import numpy as np\n",
    "from scipy import stats"
   ]
  },
  {
   "cell_type": "markdown",
   "metadata": {},
   "source": [
    "<div id=\"teoria\"></div>\n",
    "\n",
    "# Teoria\n",
    "\n",
    "## Estatísticas e distribuições amostrais\n",
    "\n",
    "Uma **estatística** é qualquer função baseada nas observações de uma amostra aleatória. Usamos estatísticas quando, para fins práticos, não é possível ter acesso a toda uma população.\n",
    "\n",
    "A distribuição de probabilidades de uma estatística é chamada de *distribuição amostral*.\n",
    "\n",
    "\n",
    "## Média Amostral $\\overline{X}$\n",
    "\n",
    "Assuma que $X$ seja uma variável aleatória com média $\\mu$ e variância $\\sigma^2$, ou seja, $E(X)=\\mu$ e $Var(X)=\\sigma^2$.\n",
    "\n",
    "Sejam $X_1, X_2, \\ldots, X_n$ amostras aleatórias de $X$ de tamanho $n$, então:\n",
    "\n",
    "$$\\overline{X} = \\frac{X_1 + X_2 + X_3 + \\cdots + X_n}{n}$$\n",
    "\n",
    "É chamada *Média Amostral*!\n",
    "\n",
    "Pode-se caracterizar a média amostral com os seguintes valores:\n",
    "\n",
    "* Média de $\\overline{X}$:\n",
    "\n",
    "$$\\mu_{\\overline{X}} = E(\\overline{X})=\\frac{\\mu + \\mu + \\cdots + \\mu}{n} = \\mu$$\n",
    "\n",
    "* Variância de $\\overline{X}$:\n",
    "\n",
    "\n",
    "$$\\sigma^2_{\\overline{X}} = Var(\\overline{X})=\\frac{\\sigma^2 + \\sigma^2 + \\cdots + \\sigma^2}{n^2} = \\frac{\\sigma^2}{n}$$\n",
    "\n",
    "\n",
    "<br>\n",
    "\n",
    "## Teorema  Central do Limite (TLC)\n",
    "\n",
    "Assuma que $X$ seja uma variável aleatória com média $\\mu$ e variância $\\sigma^2$, ou seja, $E(X)=\\mu$ e $Var(X)=\\sigma^2$.\n",
    "\n",
    "Dado $X_i$ uma variável aleatória *i.i.d.* (independente e identicamente distribuída) a $X$ com distribuição qualquer, tem-se que:\n",
    "\n",
    "$$\\bar{X}=\\frac{X_1+X_2+...+X_n}{n}=\\frac{\\sum_{i=1}^n X_i}{n} \\sim N\\left(\\mu,\\frac{\\sigma^2}{n}\\right),$$\n",
    "\n",
    "quando $n$ for suficientemente grande.\n",
    "\n",
    "*Obs:* Em alguns casos específicos, pode-se considerar $X_i$ com distribuições diferentes ou com certa dependência entre elas.\n",
    "\n",
    "<br> \n",
    "\n",
    "**Resultado adicional:**\n",
    "\n",
    "Se $X_1, X_2, \\cdots, X_n$ é uma amostra aleatória de tamanho $n$ extraída de uma população com média $\\mu$ e variância $\\sigma^2$ e $\\overline{X}$ é a distribuição da média amostral, a forma limite da distribuição:\n",
    "\n",
    "$$Z = \\frac{\\overline{X} - \\mu}{\\sigma/\\sqrt{n}} \\sim N\\left(0,1\\right).$$\n",
    "\n",
    "É a **distribuição normal padrão**, à medida que $n  \\rightarrow \\infty$."
   ]
  },
  {
   "cell_type": "markdown",
   "metadata": {},
   "source": [
    "___\n",
    "<div id=\"simulacao\"></div>\n",
    "\n",
    "# Simulação\n",
    "\n",
    "Vamos tentar entender a intuição do TLC através de uma simulação."
   ]
  },
  {
   "cell_type": "markdown",
   "metadata": {},
   "source": [
    "<div id=\"ex1\"></div>\n",
    "\n",
    "### EXERCÍCIO 1\n",
    "\n",
    "Faça uma função chamada `amostra_uniforme(n)`, que recebe um número inteiro `n` e que retorna uma lista contendo `n` valores gerados aleatoriamente a partir de uma distribuição uniforme com parâmetros $a=10$, $b=20$. \n",
    "\n",
    "Esses `n` valores representam uma amostra aleatória qualquer extraída de $X\\sim \\text{Uniforme}(10;20)$.\n",
    "\n",
    "**Dica:** você provavelmente vai utilizar o método `stats.uniform.rvs` (pesquise a documentação)."
   ]
  },
  {
   "cell_type": "code",
   "execution_count": 37,
   "metadata": {},
   "outputs": [],
   "source": [
    "def amostra_uniforme(n):\n",
    "    return stats.uniform.rvs(loc=10, scale=10, size=n)"
   ]
  },
  {
   "cell_type": "markdown",
   "metadata": {},
   "source": [
    "___\n",
    "<div id=\"visualizando\"></div>\n",
    "\n",
    "## Visualizando os dados gerados\n",
    "\n",
    "Execute a função `amostra_uniforme(n)` criada no exercício anterior considerando `n=20`.\n",
    "\n",
    "O gráfico a seguir contem um histograma com os valores da amostra gerados por sua função.\n",
    "\n",
    "Execute algumas vezes a célula abaixo para perceber que a amostra pode conter valores diferentes."
   ]
  },
  {
   "cell_type": "code",
   "execution_count": 38,
   "metadata": {},
   "outputs": [
    {
     "data": {
      "image/png": "[encoded data removed]",
      "text/plain": [
       "<Figure size 1080x360 with 1 Axes>"
      ]
     },
     "metadata": {
      "needs_background": "light"
     },
     "output_type": "display_data"
    }
   ],
   "source": [
    "# Gera uma amostra aleatória de tamanho n\n",
    "amostra = pd.Series(amostra_uniforme(20))\n",
    "\n",
    "plt.figure(figsize=(15, 5))\n",
    "\n",
    "# Para construir o histograma com amplitude 1 nas faixas\n",
    "faixa = np.arange(10,21,1)\n",
    "plt.hist(amostra_uniforme(20), bins=faixa, density=True,\n",
    "         color='skyblue', edgecolor='white', \n",
    "         linewidth=1, alpha=0.8)\n",
    "\n",
    "# Para construir a fdp \n",
    "eixo_x = np.linspace(5, 25, 1000)\n",
    "fx_uniform = stats.uniform.pdf(eixo_x, loc=10, scale=20-10)\n",
    "plt.plot(eixo_x, fx_uniform, color='blue')\n",
    "plt.ylabel('densidade')\n",
    "plt.xlabel('valores de x')\n",
    "plt.title('Uma amostra de X ~ Uniforme(10; 20)')\n",
    "plt.ylim(0,0.2)\n",
    "plt.legend(('fdp','amostra'))\n",
    "\n",
    "plt.show()\n"
   ]
  },
  {
   "cell_type": "markdown",
   "metadata": {},
   "source": [
    "<div id=\"ex2\"></div>\n",
    "\n",
    "### EXERCÍCIO 2\n",
    "\n",
    "Gere um amostra aleatória de tamanho `n=20` utilizando a sua função `amostra_uniforme`.\n",
    "Calcule a média amostral."
   ]
  },
  {
   "cell_type": "code",
   "execution_count": 39,
   "metadata": {},
   "outputs": [
    {
     "name": "stdout",
     "output_type": "stream",
     "text": [
      "A média amostral é: 14.768733052067052 \n"
     ]
    }
   ],
   "source": [
    "amostra = amostra_uniforme(20)\n",
    "print(f'A média amostral é: {sum(amostra) / len(amostra)} ')"
   ]
  },
  {
   "cell_type": "markdown",
   "metadata": {},
   "source": [
    "<div id=\"ex3\"></div>\n",
    "\n",
    "### EXERCÍCIO 3\n",
    "\n",
    "**a.** Agora repita o [Exercício 2](#ex2) por mil vezes, armazenando as mil médias em uma lista.\n",
    "\n",
    "**b.** Plote um histograma com as médias obtidas. Utilize `bins=20`, por exemplo.\n",
    "\n",
    "**c.** Interprete a distribuição dessas médias amostrais."
   ]
  },
  {
   "cell_type": "code",
   "execution_count": 40,
   "metadata": {},
   "outputs": [
    {
     "data": {
      "text/plain": [
       "(array([0.00483339, 0.        , 0.00483339, 0.06283404, 0.08216759,\n",
       "        0.1160013 , 0.25133616, 0.33833714, 0.44950506, 0.60417346,\n",
       "        0.63800718, 0.61384024, 0.45433844, 0.40117118, 0.3528373 ,\n",
       "        0.22233583, 0.11116792, 0.05800065, 0.0386671 , 0.02900033]),\n",
       " array([12.76545354, 12.97234777, 13.17924199, 13.38613621, 13.59303044,\n",
       "        13.79992466, 14.00681889, 14.21371311, 14.42060734, 14.62750156,\n",
       "        14.83439579, 15.04129001, 15.24818424, 15.45507846, 15.66197269,\n",
       "        15.86886691, 16.07576114, 16.28265536, 16.48954959, 16.69644381,\n",
       "        16.90333803]),\n",
       " <BarContainer object of 20 artists>)"
      ]
     },
     "execution_count": 40,
     "metadata": {},
     "output_type": "execute_result"
    },
    {
     "data": {
      "image/png": "[encoded data removed]",
      "text/plain": [
       "<Figure size 432x288 with 1 Axes>"
      ]
     },
     "metadata": {
      "needs_background": "light"
     },
     "output_type": "display_data"
    }
   ],
   "source": [
    "lista_medias = []\n",
    "for i in range(0, 1000):\n",
    "    lista_medias.append(amostra_uniforme(20).mean())\n",
    "\n",
    "plt.hist(lista_medias, bins=20, density=True, color='red', edgecolor='white', linewidth=1, alpha=0.8)"
   ]
  },
  {
   "cell_type": "markdown",
   "metadata": {},
   "source": [
    "<div id=\"ex4\"></div>\n",
    "\n",
    "### EXERCÍCIO 4\n",
    "\n",
    "No [Exercício 1](#ex1), a sua função `amostra_uniforme(n)` foi constuída para gerar `n` valores para representar uma amostra aleatória qualquer. Ou seja, de forma teórica $X_1, X_2, X_3, \\ldots, X_n$ é uma amostra aleatória de $X\\sim \\text{Uniforme}(10; 20)$.\n",
    "\n",
    "No [Exercício 2](#ex2), calculamos uma única média amostral a partir dos valores $X_1, X_2, X_3, \\ldots, X_n$. Nos nossos exemplos utilizamos `n=20`.\n",
    "\n",
    "No [Exercício 3a](#ex3), geramos 1000 amostras de tamanho `n=20` e, com isso, foram calculadas 1000 médias amostrais, $\\overline{X}$, todas obtidas de forma independente e da mesma distribuição. \n",
    "\n",
    "O que podemos observar no histograma é que essas 1000 médias amostrais se aproximam de uma distribuição simétrica. Seria uma distribuição normal?\n",
    "\n",
    "Faça um *QQPlot* para avaliar, descritivamente, se as médias seguem uma distribuição normal.\n",
    "Consulte [aqui](https://docs.scipy.org/doc/scipy/reference/generated/scipy.stats.probplot.html)."
   ]
  },
  {
   "cell_type": "code",
   "execution_count": 41,
   "metadata": {},
   "outputs": [
    {
     "data": {
      "text/plain": [
       "(0.6497939362413636, 15.015104730710435, 0.9994513857458325)"
      ]
     },
     "execution_count": 41,
     "metadata": {},
     "output_type": "execute_result"
    },
    {
     "data": {
      "image/png": "[encoded data removed]",
      "text/plain": [
       "<Figure size 432x288 with 1 Axes>"
      ]
     },
     "metadata": {
      "needs_background": "light"
     },
     "output_type": "display_data"
    }
   ],
   "source": [
    "fx_teorica = stats.probplot(lista_medias, dist=\"norm\", plot=plt)\n",
    "fx_teorica[1]"
   ]
  },
  {
   "cell_type": "markdown",
   "metadata": {},
   "source": [
    "<div id=\"ex5\"></div>\n",
    "\n",
    "### EXERCÍCIO 5\n",
    "\n",
    "Pelo TLC, as médias amostrais $\\overline{X}$ devem seguir distribuição normal conforme `n` seja grande. Há estudos que mostram que, com `n>30`, $\\overline{X}$ já apresenta boa aproximação de uma normal não importando o formato de $X$.\n",
    "\n",
    "Ainda, pelo TLC, $\\overline{X}$ tem valor médio igual a $\\mu$ (que é a média da distribuição original $X$, no caso da uniforme) e variância $\\sigma^2/n$. Vamos verificar essa afirmação:\n",
    "\n",
    "**a.** Calcule a média e variância teóricas da distribuição de $\\overline{X}$. Para isso, calcule a média e a variância da $\\text{Uniforme}(10; 20)$. Esses dois últimos valores vão representar $\\mu$ e $\\sigma^2$.\n",
    "\n",
    "**b.** Calcule a média e variância das 1000 médias amostrais geradas no [Exercício 3](#ex3).\n",
    "\n",
    "**c.** Compare os resultados e discuta se eles se aproximam do que era esperado pelo TLC."
   ]
  },
  {
   "cell_type": "code",
   "execution_count": 46,
   "metadata": {},
   "outputs": [
    {
     "name": "stdout",
     "output_type": "stream",
     "text": [
      "Média da distribuição uniforme: 15.0\n",
      "Variância da distribuição uniforme: 8.333333333333332\n",
      "--------------------\n",
      "Média da amostra: 15.015104730710426\n",
      "Variância da amostra: 0.42034988523957384\n",
      "\n",
      "A variância amostral é menor que a variância da distribuição uniforme em n (n = 20) vezes\n",
      "Variância da distribuição uniforme / Variância da amostra = 19.824754629310387\n"
     ]
    }
   ],
   "source": [
    "# Média e variância da distribuição uniforme\n",
    "media = stats.uniform.mean(loc=10, scale=10)\n",
    "variancia = stats.uniform.var(loc=10, scale=10)\n",
    "\n",
    "# Média e variância do exercício 3\n",
    "media_amostral = sum(lista_medias) / len(lista_medias)\n",
    "variancia_amostral = sum((lista_medias - media_amostral)**2) / len(lista_medias)\n",
    "\n",
    "\n",
    "print(f'Média da distribuição uniforme: {media}')\n",
    "print(f'Variância da distribuição uniforme: {variancia}')\n",
    "print('--------------------')\n",
    "print(f'Média da amostra: {media_amostral}')\n",
    "print(f'Variância da amostra: {variancia_amostral}')\n",
    "\n",
    "print('\\nA variância amostral é menor que a variância da distribuição uniforme em n (n = 20) vezes')\n",
    "print(f'Variância da distribuição uniforme / Variância da amostra = {variancia / variancia_amostral}')"
   ]
  }
 ],
 "metadata": {
  "hide_input": false,
  "kernelspec": {
   "display_name": "Python 3.10.2 64-bit",
   "language": "python",
   "name": "python3"
  },
  "language_info": {
   "codemirror_mode": {
    "name": "ipython",
    "version": 3
   },
   "file_extension": ".py",
   "mimetype": "text/x-python",
   "name": "python",
   "nbconvert_exporter": "python",
   "pygments_lexer": "ipython3",
   "version": "3.10.2"
  },
  "vscode": {
   "interpreter": {
    "hash": "3a6acde2cd596d0abfe0079f431f8954b4715d54fd8c6b3c6729efc3bb7850b6"
   }
  }
 },
 "nbformat": 4,
 "nbformat_minor": 4
}
