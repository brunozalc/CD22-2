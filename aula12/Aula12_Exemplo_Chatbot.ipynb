{
 "cells": [
  {
   "cell_type": "markdown",
   "metadata": {},
   "source": [
    "___\n",
    "# Exemplo: Distribuição Poisson\n",
    "\n",
    "___\n",
    "## Aula 12"
   ]
  },
  {
   "cell_type": "markdown",
   "metadata": {},
   "source": [
    "## Lista de comandos:\n",
    "\n",
    "Comandos quando $X\\sim Poisson(\\mu)$\n",
    "\n",
    "- $P(X=k)$: `stats.poisson.pmf(k,mu)`\n",
    "- $P(X\\leq k)$: `stats.poisson.cdf(k, mu)`\n",
    "- $E(X)$: `stats.poisson.mean(mu)`\n",
    "- $Var(X)$: `stats.poisson.var(mu)`\n",
    "- $DP(X)$: `stats.poisson.std(mu)`\n",
    "\n",
    "Link: https://docs.scipy.org/doc/scipy/reference/generated/scipy.stats.poisson.html"
   ]
  },
  {
   "cell_type": "code",
   "execution_count": 2,
   "metadata": {},
   "outputs": [],
   "source": [
    "from scipy import stats"
   ]
  },
  {
   "cell_type": "markdown",
   "metadata": {},
   "source": [
    "O número de conversas que se iniciam entre usuário e chatbot em um site e-commerce ocorre a uma taxa média de 4 a cada minuto.\n"
   ]
  },
  {
   "cell_type": "raw",
   "metadata": {},
   "source": [
    "mu : valor médio por minuto\n",
    "mu = 4\n",
    "\n",
    "X: numero de conversas entre usuario e chatbot por minuto\n"
   ]
  },
  {
   "cell_type": "markdown",
   "metadata": {},
   "source": [
    "a) Calcule a probabilidade de ocorrer 3 conversas entre usuário e chatbot em um minuto qualquer do dia?\n",
    "\n",
    "*Resposta esperada: 0.19536681481316454*"
   ]
  },
  {
   "cell_type": "code",
   "execution_count": 3,
   "metadata": {},
   "outputs": [
    {
     "name": "stdout",
     "output_type": "stream",
     "text": [
      "A probabilidade de ocorrer 3 conversas entre usuário e chatbot em um minuto qualquer é de 0.19536681481316454\n"
     ]
    }
   ],
   "source": [
    "print(f'A probabilidade de ocorrer 3 conversas entre usuário e chatbot em um minuto qualquer é de {stats.poisson.pmf(3, 4)}')"
   ]
  },
  {
   "cell_type": "markdown",
   "metadata": {},
   "source": [
    "b) Calcule a probabilidade de ocorrer **menos de 3** conversas entre usuário e chatbot em um minuto qualquer do dia.\n",
    "\n",
    "*Resposta esperada: 0.23810330555354436*"
   ]
  },
  {
   "cell_type": "code",
   "execution_count": 5,
   "metadata": {},
   "outputs": [
    {
     "name": "stdout",
     "output_type": "stream",
     "text": [
      "A probabilidade de ocorrer menos de 3 conversas entre usuário e chatbot em um minuto qualquer é de 0.23810330555354436\n"
     ]
    }
   ],
   "source": [
    "print(f'A probabilidade de ocorrer menos de 3 conversas entre usuário e chatbot em um minuto qualquer é de {stats.poisson.cdf(2, 4)}')"
   ]
  },
  {
   "cell_type": "markdown",
   "metadata": {},
   "source": [
    "c) Calcule a probabilidade de ocorrer **menos de 4** conversas entre usuário e chatbot em um minuto qualquer do dia, **sabendo que houve pelo menos 1 conversa entre usuário e chatbot**.\n",
    "\n",
    "*Resposta esperada: 0.42290016824554516*"
   ]
  },
  {
   "cell_type": "code",
   "execution_count": 31,
   "metadata": {},
   "outputs": [
    {
     "name": "stdout",
     "output_type": "stream",
     "text": [
      "A probabilidade é 0.42290016824554516\n"
     ]
    }
   ],
   "source": [
    "p = (stats.poisson.cdf(3, 4) - stats.poisson.cdf(0, 4)) / stats.poisson.sf(0, 4) \n",
    "# p = (stats.poisson.pmf(1, 4) + stats.poisson.pmf(2, 4) + stats.poisson.pmf(3, 4)) / stats.poisson.sf(0, 4)\n",
    "print(f'A probabilidade é {p}')"
   ]
  },
  {
   "cell_type": "markdown",
   "metadata": {},
   "source": [
    "**EXTRA:** Pergunta a cada 2 minutos:\n",
    "Calcule a probabilidade de ocorrem exatamente 3 inícios de conversa a cada **dois minutos** quaisquer do dia? \n",
    "\n",
    "*Resposta esperada: 0.028626144247680996*"
   ]
  },
  {
   "cell_type": "code",
   "execution_count": 15,
   "metadata": {},
   "outputs": [
    {
     "name": "stdout",
     "output_type": "stream",
     "text": [
      "A probabilidade de occorer exatamnete 3 conversa a cada dois minutos é de 0.028626144247680996\n"
     ]
    }
   ],
   "source": [
    "print(f'A probabilidade de occorer exatamnete 3 conversa a cada dois minutos é de {stats.poisson.pmf(3, 4 * 2)}')"
   ]
  }
 ],
 "metadata": {
  "kernelspec": {
   "display_name": "Python 3.10.2 64-bit",
   "language": "python",
   "name": "python3"
  },
  "language_info": {
   "codemirror_mode": {
    "name": "ipython",
    "version": 3
   },
   "file_extension": ".py",
   "mimetype": "text/x-python",
   "name": "python",
   "nbconvert_exporter": "python",
   "pygments_lexer": "ipython3",
   "version": "3.10.2"
  },
  "vscode": {
   "interpreter": {
    "hash": "3a6acde2cd596d0abfe0079f431f8954b4715d54fd8c6b3c6729efc3bb7850b6"
   }
  }
 },
 "nbformat": 4,
 "nbformat_minor": 2
}
