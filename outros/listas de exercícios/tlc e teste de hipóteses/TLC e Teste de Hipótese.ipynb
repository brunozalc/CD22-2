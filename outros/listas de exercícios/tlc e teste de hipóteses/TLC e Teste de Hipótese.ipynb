{
 "cells": [
  {
   "cell_type": "markdown",
   "metadata": {},
   "source": [
    "# TLC e Teste de Hipótese\n",
    "\n",
    "___\n"
   ]
  },
  {
   "cell_type": "markdown",
   "metadata": {},
   "source": [
    "___\n",
    "Carregando algumas bibliotecas:"
   ]
  },
  {
   "cell_type": "code",
   "execution_count": 2,
   "metadata": {},
   "outputs": [],
   "source": [
    "%matplotlib inline\n",
    "import pandas as pd\n",
    "import matplotlib.pyplot as plt\n",
    "import numpy as np\n",
    "\n",
    "from scipy import stats\n",
    "import math\n",
    "\n",
    "# Para ter melhor print\n",
    "from IPython.display import display"
   ]
  },
  {
   "cell_type": "markdown",
   "metadata": {},
   "source": [
    "___\n",
    "## Índice\n",
    "\n",
    "- [Questão 1 - Black Friday: o perfil do comprador online brasileiro](#q1) \n",
    "    - [Item a](#q1_a)\n",
    "    - [Item b](#q1_b)\n",
    "    - [Item c](#q1_c)\n",
    "- [Questão 2 - Pressão Arterial](#q2) \n",
    "    - [Item a](#q2_a)\n",
    "    - [Item b](#q2_b)\n",
    "    - [Item c](#q2_c)\n",
    "- [Questão 3 - Ticket Médio](#q3) \n",
    "    - [Item a](#q3_a)\n",
    "    - [Item b](#q3_b)\n",
    "    - [Item c](#q3_c)\n",
    "- [Questão 4 - Seguro Saúdo](#q4) \n",
    "    - [Item a](#q4_a)\n",
    "    - [Item b](#q4_b)\n",
    "    - [Item c](#q4_c)\n",
    "    - [Item d](#q4_d)\n",
    "- [Questão 5 - Exame de Sangue - Hipoglicemia Crônica](#q5) \n",
    "    - [Item a](#q5_a)\n",
    "    - [Item b](#q5_b)\n",
    "    - [Item c](#q5_c)\n",
    "    - [Item d](#q5_d)\n",
    "    - [Item e](#q5_e)\n",
    "- [Questão 6 - Roubos de Smartphones](#q6) \n",
    "    - [Item a](#q6_a)\n",
    "    - [Item b](#q6_b)\n",
    "- [Questão 7 - Loja de Departamento Marvak](#q7) \n",
    "    - [Item a](#q7_a)\n",
    "    - [Item b](#q7_b)\n",
    "    - [Item c](#q7_c)\n",
    "    - [Item d](#q7_d)\n",
    "- [Questão 8 - Informações Climáticas](#q8) \n",
    "    - [Item a](#q8_a)\n",
    "    - [Item b](#q8_b)\n",
    "- [Questão 9 - Lobos Cinzentos](#q9) \n",
    "    - [Item a](#q9_a)\n",
    "    - [Item b](#q9_b)\n",
    "    - [Item c](#q9_c)"
   ]
  },
  {
   "cell_type": "markdown",
   "metadata": {},
   "source": [
    "<div id=\"q1\"></div>\n",
    "\n",
    "# Questão 1\n",
    "\n",
    "\n",
    "\n",
    "### Black Friday: o perfil do comprador online brasileiro\n",
    "\n",
    "<img src=\"questao3.jpg\">\n",
    "\n",
    "Fonte: https://veja.abril.com.br/tecnologia/black-friday-o-perfil-do-comprador-online-brasileiro/"
   ]
  },
  {
   "cell_type": "markdown",
   "metadata": {},
   "source": [
    "**PROBLEMA**\n",
    "\n",
    "Em 2019, o gasto médio dos brasileiros com compras on-lines na Black Friday foi igual a 503 reais. Ainda, o desvio padrão populacional desse gasto foi igual a 100 reais.\n",
    "\n",
    "Neste ano, muita especulação foi feita sobre as vendas na Black Friday. Algumas empresas de pesquisa de mercado suspeitam que o gasto médio irá superar a do ano anterior.\n",
    "\n",
    "Assim, as hipóteses em termos do problema e em termos do parâmetro são:\n",
    "\n",
    "$H_0:$ Suspeita da empresa de pesquisa de mercado não procede $\\hspace{3mm}\\Rightarrow\\qquad H_0: \\mu \\leq 503$\n",
    "\n",
    "$H_A:$ Suspeita da empresa de pesquisa de mercado procede   $\\hspace{9mm}\\Rightarrow\\qquad H_0: \\mu > 503$\n",
    "\n",
    "<br>\n",
    "\n",
    "Uma amostra de 49 compras on-lines em 2020 serão analisadas. Assuma que o desvio padrão dos gastos na Black Friday de 2020 manterá o mesmo de 2019.\n",
    "\n",
    "Considerando um nível de significância de $5\\%$, responda:"
   ]
  },
  {
   "cell_type": "markdown",
   "metadata": {},
   "source": [
    "---\n",
    "\n",
    "<div id=\"q1_a\"></div>\n",
    "\n",
    "**a)** Utilizando uma técnica inferencial adequada, encontre a região crítica do teste."
   ]
  },
  {
   "cell_type": "code",
   "execution_count": 3,
   "metadata": {},
   "outputs": [
    {
     "name": "stdout",
     "output_type": "stream",
     "text": [
      "Região Crítica: 526.4979\n"
     ]
    }
   ],
   "source": [
    "n = 49\n",
    "sigma = 100\n",
    "alpha = 0.05\n",
    "\n",
    "rc = stats.norm.ppf(0.95, loc=503, scale=sigma/(n ** 0.5))\n",
    "print(f\"Região Crítica: {rc:.4f}\")\n",
    "\n"
   ]
  },
  {
   "cell_type": "markdown",
   "metadata": {},
   "source": [
    "**Para itens b) e c)**\n",
    "\n",
    "Assuma que após a Black Friday de 2020, o gasto médio amostral observado em 49 compras on-lines foi igual a $530,00$ reais."
   ]
  },
  {
   "cell_type": "markdown",
   "metadata": {},
   "source": [
    "---\n",
    "\n",
    "<div id=\"q1_b\"></div>\n",
    "\n",
    "\n",
    "**b)** Considerando item anterior, tome uma conclusão em termos do problema, deixando claro quais resultados foram utilizados para tal decisão. "
   ]
  },
  {
   "cell_type": "markdown",
   "metadata": {},
   "source": [
    "    Como 530 > 526.49 (região crítica), rejeitamos H_0. Ou seja, rejeitamos a suspeita da empresa de que a pesquisa não procede."
   ]
  },
  {
   "cell_type": "markdown",
   "metadata": {},
   "source": [
    "---\n",
    "\n",
    "<div id=\"q1_c\"></div>\n",
    "\n",
    "\n",
    "**c)** Calcule o valor-p e responda se há evidências de que a suspeita das empresas de pesquisa procede, com $5\\%$ de nível de significância."
   ]
  },
  {
   "cell_type": "code",
   "execution_count": 4,
   "metadata": {},
   "outputs": [
    {
     "name": "stdout",
     "output_type": "stream",
     "text": [
      "p-value: 0.0294\n"
     ]
    }
   ],
   "source": [
    "p_value = 1 - stats.norm.cdf(530, loc=503, scale=sigma/(n ** 0.5))\n",
    "print(f\"p-value: {p_value:.4f}\")"
   ]
  },
  {
   "cell_type": "markdown",
   "metadata": {},
   "source": [
    "    Novamente, rejeitamos H_0"
   ]
  },
  {
   "cell_type": "markdown",
   "metadata": {},
   "source": [
    "___\n",
    "\n",
    "<div id=\"q2\"></div>\n",
    "\n",
    "# Questão 2\n",
    "\n",
    "## Pressão Arterial\n",
    "\n",
    "\n",
    "<img src=\"questao4.jpg\">\n",
    "\n",
    "Fonte: https://melhorcomsaude.com.br/5-formas-naturais-diminuir-pressao-arterial/\n",
    "\n"
   ]
  },
  {
   "cell_type": "markdown",
   "metadata": {},
   "source": [
    "A base de dados `blood_pressure` apresentada [aqui](https://github.com/Opensourcefordatascience/Data-sets/find/master) contém a pressão arterial de cada um dos $120$ pacientes antes de um tratamento (`bp_before`) e depois esse tratamento (`bp_after`).\n",
    "\n",
    "Essa base de dados está representada no arquivo `blood_pressure.xlsx`:"
   ]
  },
  {
   "cell_type": "code",
   "execution_count": 5,
   "metadata": {},
   "outputs": [
    {
     "data": {
      "text/html": [
       "<div>\n",
       "<style scoped>\n",
       "    .dataframe tbody tr th:only-of-type {\n",
       "        vertical-align: middle;\n",
       "    }\n",
       "\n",
       "    .dataframe tbody tr th {\n",
       "        vertical-align: top;\n",
       "    }\n",
       "\n",
       "    .dataframe thead th {\n",
       "        text-align: right;\n",
       "    }\n",
       "</style>\n",
       "<table border=\"1\" class=\"dataframe\">\n",
       "  <thead>\n",
       "    <tr style=\"text-align: right;\">\n",
       "      <th></th>\n",
       "      <th>patient</th>\n",
       "      <th>sex</th>\n",
       "      <th>agegrp</th>\n",
       "      <th>bp_before</th>\n",
       "      <th>bp_after</th>\n",
       "    </tr>\n",
       "  </thead>\n",
       "  <tbody>\n",
       "    <tr>\n",
       "      <th>0</th>\n",
       "      <td>1</td>\n",
       "      <td>Male</td>\n",
       "      <td>30-45</td>\n",
       "      <td>143</td>\n",
       "      <td>153</td>\n",
       "    </tr>\n",
       "    <tr>\n",
       "      <th>1</th>\n",
       "      <td>2</td>\n",
       "      <td>Male</td>\n",
       "      <td>30-45</td>\n",
       "      <td>163</td>\n",
       "      <td>170</td>\n",
       "    </tr>\n",
       "    <tr>\n",
       "      <th>2</th>\n",
       "      <td>3</td>\n",
       "      <td>Male</td>\n",
       "      <td>30-45</td>\n",
       "      <td>153</td>\n",
       "      <td>168</td>\n",
       "    </tr>\n",
       "    <tr>\n",
       "      <th>3</th>\n",
       "      <td>4</td>\n",
       "      <td>Male</td>\n",
       "      <td>30-45</td>\n",
       "      <td>153</td>\n",
       "      <td>142</td>\n",
       "    </tr>\n",
       "    <tr>\n",
       "      <th>4</th>\n",
       "      <td>5</td>\n",
       "      <td>Male</td>\n",
       "      <td>30-45</td>\n",
       "      <td>146</td>\n",
       "      <td>141</td>\n",
       "    </tr>\n",
       "  </tbody>\n",
       "</table>\n",
       "</div>"
      ],
      "text/plain": [
       "   patient   sex agegrp  bp_before  bp_after\n",
       "0        1  Male  30-45        143       153\n",
       "1        2  Male  30-45        163       170\n",
       "2        3  Male  30-45        153       168\n",
       "3        4  Male  30-45        153       142\n",
       "4        5  Male  30-45        146       141"
      ]
     },
     "execution_count": 5,
     "metadata": {},
     "output_type": "execute_result"
    }
   ],
   "source": [
    "# Carregando os dados\n",
    "bp = pd.read_excel(\"blood_pressure.xlsx\")\n",
    "bp.head(5)"
   ]
  },
  {
   "cell_type": "markdown",
   "metadata": {},
   "source": [
    "**PROBLEMA**\n",
    "\n",
    "O objetivo é avaliar se o tratamento foi eficaz na redução da pressão arterial desses pacientes. \n",
    "\n",
    "Para isso, deve-se avaliar se, em média, a diferença entre a pressão arterial depois e antes do tratamento é inferior a zero.\n",
    "\n",
    "Levando em consideração a variável `diferenca` calculada a seguir, verifique se há evidências suficiente para afirmar que o tratamento foi eficaz quanto a redução, em média, da pressão arterial, com $99\\%$ de coeficiente de confiança."
   ]
  },
  {
   "cell_type": "code",
   "execution_count": 6,
   "metadata": {},
   "outputs": [
    {
     "data": {
      "text/html": [
       "<div>\n",
       "<style scoped>\n",
       "    .dataframe tbody tr th:only-of-type {\n",
       "        vertical-align: middle;\n",
       "    }\n",
       "\n",
       "    .dataframe tbody tr th {\n",
       "        vertical-align: top;\n",
       "    }\n",
       "\n",
       "    .dataframe thead th {\n",
       "        text-align: right;\n",
       "    }\n",
       "</style>\n",
       "<table border=\"1\" class=\"dataframe\">\n",
       "  <thead>\n",
       "    <tr style=\"text-align: right;\">\n",
       "      <th></th>\n",
       "      <th>0</th>\n",
       "    </tr>\n",
       "  </thead>\n",
       "  <tbody>\n",
       "    <tr>\n",
       "      <th>0</th>\n",
       "      <td>10</td>\n",
       "    </tr>\n",
       "    <tr>\n",
       "      <th>1</th>\n",
       "      <td>7</td>\n",
       "    </tr>\n",
       "    <tr>\n",
       "      <th>2</th>\n",
       "      <td>15</td>\n",
       "    </tr>\n",
       "    <tr>\n",
       "      <th>3</th>\n",
       "      <td>-11</td>\n",
       "    </tr>\n",
       "    <tr>\n",
       "      <th>4</th>\n",
       "      <td>-5</td>\n",
       "    </tr>\n",
       "  </tbody>\n",
       "</table>\n",
       "</div>"
      ],
      "text/plain": [
       "    0\n",
       "0  10\n",
       "1   7\n",
       "2  15\n",
       "3 -11\n",
       "4  -5"
      ]
     },
     "execution_count": 6,
     "metadata": {},
     "output_type": "execute_result"
    }
   ],
   "source": [
    "diferenca = bp[\"bp_after\"] - bp[\"bp_before\"]\n",
    "diferenca.head(5).to_frame()"
   ]
  },
  {
   "cell_type": "markdown",
   "metadata": {},
   "source": [
    "Assim, as hipóteses em termos do problema e em termos do parâmetro são:\n",
    "\n",
    "$H_0:$ O tratamento não foi eficaz $\\hspace{3mm}\\Rightarrow\\qquad H_0: \\mu_{\\text{diferença}} \\geq 0$\n",
    "\n",
    "$H_A:$ O tratamento foi eficaz   $\\hspace{9mm}\\Rightarrow\\qquad H_0: \\mu_{\\text{diferença}} < 0$\n",
    "\n",
    "sendo $\\mu_{\\text{diferença}}$ a média populacional da variável diferença entre a pressão arterial depois e antes.\n",
    "\n"
   ]
  },
  {
   "cell_type": "markdown",
   "metadata": {},
   "source": [
    "Responda:"
   ]
  },
  {
   "cell_type": "markdown",
   "metadata": {},
   "source": [
    "---\n",
    "\n",
    "<div id=\"q2_a\"></div>\n",
    "\n",
    "**a)** Utilizando uma técnica inferencial adequada, calcule o valor-p do teste. "
   ]
  },
  {
   "cell_type": "code",
   "execution_count": 7,
   "metadata": {},
   "outputs": [
    {
     "name": "stdout",
     "output_type": "stream",
     "text": [
      "p-value: 0.00054\n"
     ]
    }
   ],
   "source": [
    "# como só temos um df (espaço amostral), podemos usar o t-student\n",
    "n = len(diferenca)\n",
    "sigma = np.std(diferenca)\n",
    "x = np.mean(diferenca) \n",
    "t_obs = (x - 0) / (sigma / n ** 0.5)\n",
    "\n",
    "p_value = stats.t.cdf(t_obs, df=n-1)\n",
    "print(f\"p-value: {p_value:.5f}\")"
   ]
  },
  {
   "cell_type": "markdown",
   "metadata": {},
   "source": [
    "---\n",
    "\n",
    "<div id=\"q2_b\"></div>\n",
    "\n",
    "**b)** Considerando item anterior, tome uma conclusão em termos do problema, deixando claro quais resultados foram utilizados para tal decisão. "
   ]
  },
  {
   "cell_type": "markdown",
   "metadata": {},
   "source": [
    "    Como o p-value é menor que o nível de significância (1%), rejeitamos H0 e concluímos que o tratamento foi eficaz."
   ]
  },
  {
   "cell_type": "markdown",
   "metadata": {},
   "source": [
    "---\n",
    "\n",
    "<div id=\"q2_c\"></div>\n",
    "\n",
    "**c)** Utilizando uma técnica inferencial adequada, encontre a região crítica deste teste."
   ]
  },
  {
   "cell_type": "code",
   "execution_count": 8,
   "metadata": {},
   "outputs": [
    {
     "name": "stdout",
     "output_type": "stream",
     "text": [
      "Região Crítica: -2.3581\n"
     ]
    }
   ],
   "source": [
    "tc = stats.t.ppf(0.01, df=n-1)\n",
    "print(f\"Região Crítica: {tc:.4f}\")"
   ]
  },
  {
   "cell_type": "markdown",
   "metadata": {},
   "source": [
    "___\n",
    "\n",
    "<div id=\"q3\"></div>\n",
    "\n",
    "# Questão 3\n",
    "\n",
    "\n",
    "## [Ticket médio: por que esse indicador é tão importante para sua empresa?](https://www.organicadigital.com/blog/ticket-medio-por-que-esse-indicador-e-tao-importante/)\n",
    "\n",
    "\"Para ter uma boa gestão do negócio, é muito importante mensurar os resultados com os indicadores de desempenho, também conhecidos como KPIs (Key Performance Indicator).\n",
    "\n",
    "O **ticket médio** é um dos KPIs mais importantes de um negócio, pois fornece ao gestor informações valiosas para a elaboração de ações estratégicas e para o planejamento de vendas com o objetivo de melhorar os resultados. O ticket médio mensal é calculado, por exemplo, por:\n",
    "\n",
    "$\\qquad\\Rightarrow$ Ticket médio mensal $=$ faturamento total mensal $/$ número de pedidos mensal\"\n",
    "   \n"
   ]
  },
  {
   "cell_type": "markdown",
   "metadata": {},
   "source": [
    "**PROBLEMA**\n",
    "\n",
    "Assuma que o ticket médio mensal de uma franquia de doces era igual a 75 reais, com desvio padrão populacional igual a 27 reais.\n",
    "\n",
    "Segundo a reportagem apresentada [aqui](https://www.organicadigital.com/blog/ticket-medio-por-que-esse-indicador-e-tao-importante/), oferta de combos de produtos é uma opção para aumentar o ticket médio mensal de uma empresa, ou seja, oferecer descontos na compra de um determinado mix de itens.\n",
    "\n",
    "Com essa orientação, a franquia de doces pretende analisar se esse mix de itens oferecido aos clientes refletiu no aumento do ticket médio mensal quando comparado com histórico.\n",
    "\n",
    "Assim, as hipóteses em termos do problema e em termos do parâmetro são:\n",
    "\n",
    "$H_0:$ Oferta de combo de produtos não foi eficaz $\\hspace{3mm}\\Rightarrow\\qquad H_0: \\mu \\leq 75$\n",
    "\n",
    "$H_A:$ Oferta de combo de produtos foi eficaz   $\\hspace{9mm}\\Rightarrow\\qquad H_0: \\mu > 75$\n",
    "\n",
    "<br>\n",
    "\n",
    "Nesse experimento, foi considerada uma amostra de 16 filiais dessa franquia de doces com a suposição de que o desvio padrão populacional não será afetado pela oferta do combo de produtos.\n",
    "\n",
    "Considerando um nível de significância de $1\\%$, responda:"
   ]
  },
  {
   "cell_type": "markdown",
   "metadata": {},
   "source": [
    "---\n",
    "\n",
    "<div id=\"q3_a\"></div>\n",
    "\n",
    "**a)** Utilizando uma técnica inferencial adequada, encontre a região crítica do teste."
   ]
  },
  {
   "cell_type": "code",
   "execution_count": 9,
   "metadata": {},
   "outputs": [
    {
     "name": "stdout",
     "output_type": "stream",
     "text": [
      "Região Crítica: 90.70285\n"
     ]
    }
   ],
   "source": [
    "sigma = 27\n",
    "n = 16\n",
    "\n",
    "rc = stats.norm.ppf(0.99, loc=75, scale=sigma/(n ** 0.5))\n",
    "\n",
    "print(f\"Região Crítica: {rc:.5f}\")"
   ]
  },
  {
   "cell_type": "markdown",
   "metadata": {},
   "source": [
    "**Para itens b) e c)**\n",
    "\n",
    "Assuma que com a oferta desse combo de produtos, a média amostral do ticket médio mensal foi igual a $88,50$ reais."
   ]
  },
  {
   "cell_type": "markdown",
   "metadata": {},
   "source": [
    "---\n",
    "\n",
    "<div id=\"q3_b\"></div>\n",
    "\n",
    "**b)** Considerando item anterior, tome uma conclusão em termos do problema, deixando claro quais resultados foram utilizados para tal decisão. "
   ]
  },
  {
   "cell_type": "markdown",
   "metadata": {},
   "source": [
    "    Não há evidências para rejeitar H0, visto que a média amostral é menor que a região crítica."
   ]
  },
  {
   "cell_type": "markdown",
   "metadata": {},
   "source": [
    "---\n",
    "\n",
    "<div id=\"q3_c\"></div>\n",
    "\n",
    "\n",
    "**c)** Calcule o valor-p e responda se há evidências de que a suspeita das empresas de pesquisa procede, com $1\\%$ de nível de significância."
   ]
  },
  {
   "cell_type": "code",
   "execution_count": 10,
   "metadata": {},
   "outputs": [
    {
     "name": "stdout",
     "output_type": "stream",
     "text": [
      "p-value: 0.02275\n"
     ]
    }
   ],
   "source": [
    "p = 1- stats.norm.cdf(88.5, loc=75, scale=sigma/(n ** 0.5))\n",
    "print(f\"p-value: {p:.5f}\")"
   ]
  },
  {
   "cell_type": "markdown",
   "metadata": {},
   "source": [
    "    Como o p-value é maior que o nível de significância (1%), não há evidências que possam rejeitar H0. Ou seja, as suspeitas da empresa não se concretizaram e nãio pode-se dizer que a oferta foi eficaz."
   ]
  },
  {
   "cell_type": "markdown",
   "metadata": {},
   "source": [
    "<div id=\"q4\"></div>\n",
    "\n",
    "___\n",
    "\n",
    "# Questão 4"
   ]
  },
  {
   "cell_type": "markdown",
   "metadata": {},
   "source": [
    "\n",
    "## Conjunto de Dados: Seguro Saúde\n",
    "\n",
    "<img src=\"./doctor.jpg\" width=100% alt=\"Fonte: https://atchealthcarerhr.com/wp-content/uploads/2018/08/iStock-695218436-e1534801414819.jpg\"> </img>\n",
    "\n",
    "O arquivo `insurance.csv` possui dados de custos médicos individuais cobrados por seguro de saúde. Esta base foi disponibilizada por [Miri Choi](https://www.kaggle.com/mirichoi0218/insurance) no Kaggle.\n",
    "\n",
    "As variáveis contidas no *dataset* são:\n",
    "\n",
    "- `age`: idade do beneficiário;\n",
    "- `sex`: gênero do beneficiário;\n",
    "- `bmi`: índice de massa corporal (IMC) em $kg/m^2$;\n",
    "- `children`: número de crianças/dependentes cobertos pelo seguro;\n",
    "- `smoker`: fumante;\n",
    "- `region`: área residencial do beneficiário (nos EUA);\n",
    "- `charges`: custos médicos individuais.\n",
    "\n",
    "Vamos começar carregando os dados."
   ]
  },
  {
   "cell_type": "code",
   "execution_count": 11,
   "metadata": {},
   "outputs": [
    {
     "data": {
      "text/html": [
       "<div>\n",
       "<style scoped>\n",
       "    .dataframe tbody tr th:only-of-type {\n",
       "        vertical-align: middle;\n",
       "    }\n",
       "\n",
       "    .dataframe tbody tr th {\n",
       "        vertical-align: top;\n",
       "    }\n",
       "\n",
       "    .dataframe thead th {\n",
       "        text-align: right;\n",
       "    }\n",
       "</style>\n",
       "<table border=\"1\" class=\"dataframe\">\n",
       "  <thead>\n",
       "    <tr style=\"text-align: right;\">\n",
       "      <th></th>\n",
       "      <th>age</th>\n",
       "      <th>sex</th>\n",
       "      <th>bmi</th>\n",
       "      <th>children</th>\n",
       "      <th>smoker</th>\n",
       "      <th>region</th>\n",
       "      <th>charges</th>\n",
       "    </tr>\n",
       "  </thead>\n",
       "  <tbody>\n",
       "    <tr>\n",
       "      <th>0</th>\n",
       "      <td>19</td>\n",
       "      <td>female</td>\n",
       "      <td>27.900</td>\n",
       "      <td>0</td>\n",
       "      <td>yes</td>\n",
       "      <td>southwest</td>\n",
       "      <td>16884.92400</td>\n",
       "    </tr>\n",
       "    <tr>\n",
       "      <th>1</th>\n",
       "      <td>18</td>\n",
       "      <td>male</td>\n",
       "      <td>33.770</td>\n",
       "      <td>1</td>\n",
       "      <td>no</td>\n",
       "      <td>southeast</td>\n",
       "      <td>1725.55230</td>\n",
       "    </tr>\n",
       "    <tr>\n",
       "      <th>2</th>\n",
       "      <td>28</td>\n",
       "      <td>male</td>\n",
       "      <td>33.000</td>\n",
       "      <td>3</td>\n",
       "      <td>no</td>\n",
       "      <td>southeast</td>\n",
       "      <td>4449.46200</td>\n",
       "    </tr>\n",
       "    <tr>\n",
       "      <th>3</th>\n",
       "      <td>33</td>\n",
       "      <td>male</td>\n",
       "      <td>22.705</td>\n",
       "      <td>0</td>\n",
       "      <td>no</td>\n",
       "      <td>northwest</td>\n",
       "      <td>21984.47061</td>\n",
       "    </tr>\n",
       "    <tr>\n",
       "      <th>4</th>\n",
       "      <td>32</td>\n",
       "      <td>male</td>\n",
       "      <td>28.880</td>\n",
       "      <td>0</td>\n",
       "      <td>no</td>\n",
       "      <td>northwest</td>\n",
       "      <td>3866.85520</td>\n",
       "    </tr>\n",
       "  </tbody>\n",
       "</table>\n",
       "</div>"
      ],
      "text/plain": [
       "   age     sex     bmi  children smoker     region      charges\n",
       "0   19  female  27.900         0    yes  southwest  16884.92400\n",
       "1   18    male  33.770         1     no  southeast   1725.55230\n",
       "2   28    male  33.000         3     no  southeast   4449.46200\n",
       "3   33    male  22.705         0     no  northwest  21984.47061\n",
       "4   32    male  28.880         0     no  northwest   3866.85520"
      ]
     },
     "execution_count": 11,
     "metadata": {},
     "output_type": "execute_result"
    }
   ],
   "source": [
    "dados = pd.read_csv('insurance.csv')\n",
    "dados.head()"
   ]
  },
  {
   "cell_type": "markdown",
   "metadata": {},
   "source": [
    "---\n",
    "\n",
    "Sabe-se que em 2018 o índice de massa corporal (IMC) médio da população masculina dos EUA era $30,5 kg/m^2$. Admita que os dados contidos no arquivo `insurance.csv` foram coletados de uma amostra aleatória da população dos EUA. Baseado nesses dados, queremos descobrir se o IMC médio da população masculina aumentou. \n",
    "\n",
    "<br>\n",
    "\n",
    "**Responda:**"
   ]
  },
  {
   "cell_type": "markdown",
   "metadata": {},
   "source": [
    "---\n",
    "\n",
    "<div id=\"q4_a\"></div>\n",
    "\n",
    "**a)** Formule as hipóteses em termos do problema e em termos estatísticos."
   ]
  },
  {
   "cell_type": "markdown",
   "metadata": {},
   "source": [
    "    H0 -> u <= 30.5\n",
    "    H1 -> u > 30.5"
   ]
  },
  {
   "cell_type": "markdown",
   "metadata": {},
   "source": [
    "---\n",
    "\n",
    "<div id=\"q4_b\"></div>\n",
    "\n",
    "**b)** Faça o teste de hipóteses utilizando uma técnica adequada. Considere nível de significância de 5%. Tome a decisão via região crítica."
   ]
  },
  {
   "cell_type": "code",
   "execution_count": 12,
   "metadata": {},
   "outputs": [
    {
     "name": "stdout",
     "output_type": "stream",
     "text": [
      "t-obs: 1.8777\n",
      "Região Crítica: 1.6471\n",
      "Rejeito H0\n"
     ]
    }
   ],
   "source": [
    "homens = dados[dados[\"sex\"] == \"male\"]\n",
    "\n",
    "n = len(homens)\n",
    "sigma = np.std(homens[\"bmi\"])\n",
    "x = np.mean(homens[\"bmi\"]) \n",
    "t_obs = (x - 30.5) / (sigma / n ** 0.5)\n",
    "print(f\"t-obs: {t_obs:.4f}\")\n",
    "\n",
    "tc = stats.t.ppf(1- 0.05, df=n-1)\n",
    "print(f\"Região Crítica: {tc:.4f}\")\n",
    "\n",
    "if t_obs < tc:\n",
    "    print(\"Não rejeito H0\")\n",
    "else:\n",
    "    print(\"Rejeito H0\")"
   ]
  },
  {
   "cell_type": "markdown",
   "metadata": {},
   "source": [
    "---\n",
    "\n",
    "<div id=\"q4_c\"></div>\n",
    "\n",
    "**c)** Repita o teste de hipóteses, agora tomando a decisão via valor-*p*."
   ]
  },
  {
   "cell_type": "code",
   "execution_count": 13,
   "metadata": {},
   "outputs": [
    {
     "name": "stdout",
     "output_type": "stream",
     "text": [
      "p-value: 0.03043\n",
      "Rejeito H0\n"
     ]
    }
   ],
   "source": [
    "p_value = 1 - stats.t.cdf(t_obs, df=n-1)\n",
    "print(f\"p-value: {p_value:.5f}\")\n",
    "\n",
    "if p_value < 0.05:\n",
    "    print(\"Rejeito H0\")\n",
    "else:\n",
    "    print(\"Não rejeito H0\")"
   ]
  },
  {
   "cell_type": "markdown",
   "metadata": {},
   "source": [
    "---\n",
    "\n",
    "<div id=\"q4_d\"></div>\n",
    "\n",
    "**d)** Verifique graficamente se a distribuição da variável `bmi` é normal, considerando o contexto desta questão. Explique: a normalidade da variável `bmi` é relevante para a sua escolha de técnica no teste de hipóteses dos itens **b** e **c**?"
   ]
  },
  {
   "cell_type": "code",
   "execution_count": 14,
   "metadata": {},
   "outputs": [
    {
     "data": {
      "image/png": "[encoded data removed]",
      "text/plain": [
       "<Figure size 640x480 with 1 Axes>"
      ]
     },
     "metadata": {},
     "output_type": "display_data"
    }
   ],
   "source": [
    "stats.probplot(homens['bmi'], dist=\"norm\", plot=plt);"
   ]
  },
  {
   "cell_type": "markdown",
   "metadata": {},
   "source": [
    "---\n",
    "\n",
    "<div id=\"q5\"></div>\n",
    "\n",
    "# Questão 5\n",
    "## Exame de Sangue - Hipoglicemia Crônica\n",
    "\n",
    "\n",
    "<img src=\"glucosemonitor.png\" width=33%>\n",
    "\n",
    "A população em geral tem glicose no sangue seguindo uma curva normal com $\\mu_0 = 90$ e $\\sigma_0=8$\n",
    "\n",
    "Pessoas que sofrem com hipoglicemia crônica têm curva normal com $\\mu_1=75$ e $\\sigma_1=8$\n",
    "\n",
    "\n",
    "Foi realizado um exame de sangue um certo número de elementos de amostra e adotou-se $\\alpha=1\\%$\n",
    "\n",
    "Assuma tamanho da amostra como n=9\n",
    "\n",
    "\n",
    "Nota: parâmetros de saúde ficcionais usados para fins de ilustração\n",
    "\n",
    "Pede-se:\n",
    "\n",
    "As hipóteses nula e alternativa para o exame de sangue que detecta se a pessoa não tem ou tem hipoglicemia crônica foram, respectivamente, elaboradas da seguinte forma:\n",
    "\n",
    "$H_0: \\mu=90$\n",
    "\n",
    "$H_1: \\mu < 90$"
   ]
  },
  {
   "cell_type": "markdown",
   "metadata": {},
   "source": [
    "---\n",
    "\n",
    "<div id=\"q5_a\"></div>\n",
    "\n",
    "**a.** Encontre o $\\bar{x}_{crítico}$ para o teste com o nível de significância dado "
   ]
  },
  {
   "cell_type": "code",
   "execution_count": 15,
   "metadata": {},
   "outputs": [
    {
     "name": "stdout",
     "output_type": "stream",
     "text": [
      "Região Crítica: 83.79641\n"
     ]
    }
   ],
   "source": [
    "n = 9\n",
    "sigma = 8\n",
    "\n",
    "rc = stats.norm.ppf(0.01, loc=90, scale=sigma/(n ** 0.5))\n",
    "print(f\"Região Crítica: {rc:.5f}\")"
   ]
  },
  {
   "cell_type": "markdown",
   "metadata": {},
   "source": [
    "---\n",
    "\n",
    "<div id=\"q5_b\"></div>\n",
    "\n",
    "\n",
    "**b.** Foi coletado o exame de sangue de um indivíduo e dividido em $n=9$ frascos, o que rendeu a amostra a seguir. Calcule o valor p deste teste "
   ]
  },
  {
   "cell_type": "code",
   "execution_count": 16,
   "metadata": {},
   "outputs": [],
   "source": [
    "amostra = [82.00, 79.41, 83.04, 83.21, 82.67, 79.96, 85.75, 82.6 , 84.19]"
   ]
  },
  {
   "cell_type": "code",
   "execution_count": 17,
   "metadata": {},
   "outputs": [
    {
     "name": "stdout",
     "output_type": "stream",
     "text": [
      "p-value: 0.00257\n"
     ]
    }
   ],
   "source": [
    "p_value = stats.norm.cdf(np.mean(amostra), loc=90, scale=sigma/(n ** 0.5))\n",
    "print(f\"p-value: {p_value:.5f}\")"
   ]
  },
  {
   "cell_type": "markdown",
   "metadata": {},
   "source": [
    "---\n",
    "\n",
    "<div id=\"q5_c\"></div>\n",
    "\n",
    "\n",
    "**c.** Usando os insumos acima conclua o teste. A conclusão que se chega pelo $x_{cr\n",
    "itico}$ concorda com a solução encontrada via valor p? "
   ]
  },
  {
   "cell_type": "markdown",
   "metadata": {},
   "source": [
    "    X crítico e valor p não rejeitam H0"
   ]
  },
  {
   "cell_type": "markdown",
   "metadata": {},
   "source": [
    "---\n",
    "\n",
    "<div id=\"q5_d\"></div>\n",
    "\n",
    "\n",
    "**d.** Diga o que significa, em termos do problema, um erro do tipo 2 neste caso"
   ]
  },
  {
   "cell_type": "markdown",
   "metadata": {},
   "source": [
    "    Um erro tipo 2 se dá quando H0 não é rejeitado, embora ele seja falso (falso negativo).\n",
    "    Nesse sentido, significa considerar uma pessoa com glicemia normal uma pessoa com hiperglicemia crônica."
   ]
  },
  {
   "cell_type": "markdown",
   "metadata": {},
   "source": [
    "---\n",
    "\n",
    "<div id=\"q5_e\"></div>\n",
    "\n",
    "\n",
    "**e.** Qual a probabilidade $\\beta$ de um erro do Tipo 2 neste caso?"
   ]
  },
  {
   "cell_type": "code",
   "execution_count": 18,
   "metadata": {},
   "outputs": [
    {
     "data": {
      "text/plain": [
       "0.0004857511189776398"
      ]
     },
     "execution_count": 18,
     "metadata": {},
     "output_type": "execute_result"
    }
   ],
   "source": [
    "1 - stats.norm.cdf(rc, loc=75, scale=sigma/(n ** 0.5))"
   ]
  },
  {
   "cell_type": "markdown",
   "metadata": {},
   "source": [
    "___\n",
    "\n",
    "<div id=\"q6\"></div>\n",
    "\n",
    "# Questão 6\n",
    "\n",
    "## Roubos de Smartphones"
   ]
  },
  {
   "cell_type": "markdown",
   "metadata": {},
   "source": [
    "Com os smartphones cada vez mais presentes em nossas vidas, estes passaram a ser visados por criminosos. No ano de 2018, nos transportes públicos da cidade de São Paulo, o número médio de smartphones roubados diariamente foi de 526, com um desvio padrão associado de 90. \n",
    "\n",
    "Com o intuito de reduzir os roubos de smartphones, o governo determinou que as operadoras de transporte colocassem cartazes em pontos estratégicos com dicas para que os passageiros pudessem evitar os roubos de seus aparelhos dentro do transporte público. Após o início da campanha, em uma amostra de 33 dias, observou-se uma média amostral de 494 smartphones roubados diariamente. Suponha que a variabilidade do número de smartphones roubados diariamente após a campanha do governo seja a mesma do ano de 2018."
   ]
  },
  {
   "cell_type": "markdown",
   "metadata": {},
   "source": [
    "---\n",
    "\n",
    "<div id=\"q6_a\"></div>\n",
    "\n",
    "**a)** Admitindo que outros fatores relevantes não sofreram alterações entre os períodos analisados, realize um teste de hipóteses para avaliar se há evidências de que a campanha do governo tenha sido eficaz. \n",
    "\n",
    "**Escolha adequadamente** uma das metodologias vistas no curso e faça:\n",
    "\n",
    "> i. Construa as hipóteses nula e alternativa em termos do problema e em termos do parâmetro. \n",
    "\n",
    "> ii. Construa a Região Crítica do teste de hipóteses assumindo $\\alpha =0.05$ e faça uma conclusão em termos do problema.\n",
    "\n",
    "> iii. Calcule o valor_p e faça novamente uma conclusão em termos do problema. \n"
   ]
  },
  {
   "cell_type": "markdown",
   "metadata": {},
   "source": [
    "**Resposta:**"
   ]
  },
  {
   "cell_type": "code",
   "execution_count": 19,
   "metadata": {},
   "outputs": [
    {
     "name": "stdout",
     "output_type": "stream",
     "text": [
      "Região Crítica: 500.23010\n",
      "Rejeito H0\n",
      "p-value: 0.02055\n",
      "Rejeito H0\n"
     ]
    }
   ],
   "source": [
    "mu = 526\n",
    "sigma = 90\n",
    "n = 33\n",
    "m_amostral = 494\n",
    "\n",
    "# hipótese nula: mu = 526\n",
    "# hipótese alternativa: mu < 526\n",
    "\n",
    "rc = stats.norm.ppf(0.05, loc=mu, scale=sigma/(n ** 0.5))\n",
    "print(f\"Região Crítica: {rc:.5f}\")\n",
    "\n",
    "if m_amostral > rc:\n",
    "    print(\"Não rejeito H0\")\n",
    "else:\n",
    "    print(\"Rejeito H0\")\n",
    "\n",
    "p_value = stats.norm.cdf(m_amostral, loc=mu, scale=sigma/(n ** 0.5))\n",
    "print(f\"p-value: {p_value:.5f}\")\n",
    "\n",
    "if p_value < 0.05:\n",
    "    print(\"Rejeito H0\")\n",
    "else:\n",
    "    print(\"Não rejeito H0\")"
   ]
  },
  {
   "cell_type": "markdown",
   "metadata": {},
   "source": [
    "<div id=\"q6_b\"></div>\n",
    "\n",
    "---\n",
    "\n",
    "**b)** Suponha que o verdadeiro número médio de smartphones roubados diariamente caiu para 480 após a campanha do governo. Usando a regra de decisão obtida no item (A), qual a probabilidade de se concluir que a campanha não foi eficaz? "
   ]
  },
  {
   "cell_type": "markdown",
   "metadata": {},
   "source": [
    "**Resposta:**"
   ]
  },
  {
   "cell_type": "code",
   "execution_count": 20,
   "metadata": {},
   "outputs": [
    {
     "data": {
      "text/plain": [
       "0.09830743173785272"
      ]
     },
     "execution_count": 20,
     "metadata": {},
     "output_type": "execute_result"
    }
   ],
   "source": [
    "μ1=480\n",
    "1-stats.norm.cdf(rc, loc=μ1, scale=sigma/np.sqrt(n))"
   ]
  },
  {
   "cell_type": "markdown",
   "metadata": {},
   "source": [
    "---\n",
    "\n",
    "<div id=\"q7\"></div>\n",
    "\n",
    "# Questão 7\n",
    "## Loja de Departamento Marvak"
   ]
  },
  {
   "cell_type": "markdown",
   "metadata": {},
   "source": [
    "\n",
    "A Marvak, uma renomada loja de departamentos, decidiu realizar uma pesquisa para verificar uma possível associação entre algumas características de seus clientes com seus gastos anuais na loja.\n",
    "\n",
    "Dessa forma, foi selecionada aleatoriamente uma amostra aleatória de $1.000$ clientes que já fizeram compra na Marvak em todas as filiais no último ano e foram observadas as seguintes informações:\n",
    "\n",
    "* **IDADE**: idade do cliente, que foi categorizada em jovem (até 30 anos), adulto (de 31 a 55 anos) ou idoso (56 ou mais anos);\n",
    "* **SEXO**: sexo do cliente (feminino ou masculino);\n",
    "* **RESIDENCIA**: tipo de residência do cliente (alugada ou própria);\n",
    "* **EC**: estado civil do cliente (casado ou solteiro);\n",
    "* **SALARIO_ANUAL**: salário anual do cliente (em reais); e\n",
    "* **GASTO_ANUAL**: gasto total anual do cliente em compras realizadas na Marvak (em reais).\n"
   ]
  },
  {
   "cell_type": "code",
   "execution_count": 21,
   "metadata": {},
   "outputs": [],
   "source": [
    "dados = pd.read_excel(\"Marvak.xlsx\")"
   ]
  },
  {
   "cell_type": "code",
   "execution_count": 22,
   "metadata": {},
   "outputs": [
    {
     "data": {
      "text/html": [
       "<div>\n",
       "<style scoped>\n",
       "    .dataframe tbody tr th:only-of-type {\n",
       "        vertical-align: middle;\n",
       "    }\n",
       "\n",
       "    .dataframe tbody tr th {\n",
       "        vertical-align: top;\n",
       "    }\n",
       "\n",
       "    .dataframe thead th {\n",
       "        text-align: right;\n",
       "    }\n",
       "</style>\n",
       "<table border=\"1\" class=\"dataframe\">\n",
       "  <thead>\n",
       "    <tr style=\"text-align: right;\">\n",
       "      <th></th>\n",
       "      <th>ID</th>\n",
       "      <th>IDADE</th>\n",
       "      <th>SEXO</th>\n",
       "      <th>RESIDENCIA</th>\n",
       "      <th>EC</th>\n",
       "      <th>SALARIO_ANUAL</th>\n",
       "      <th>GASTO_ANUAL</th>\n",
       "    </tr>\n",
       "  </thead>\n",
       "  <tbody>\n",
       "    <tr>\n",
       "      <th>0</th>\n",
       "      <td>1</td>\n",
       "      <td>Jovem</td>\n",
       "      <td>Feminino</td>\n",
       "      <td>Alugada</td>\n",
       "      <td>Solteiro</td>\n",
       "      <td>86000.00</td>\n",
       "      <td>1053.00</td>\n",
       "    </tr>\n",
       "    <tr>\n",
       "      <th>1</th>\n",
       "      <td>2</td>\n",
       "      <td>Jovem</td>\n",
       "      <td>Feminino</td>\n",
       "      <td>Propria</td>\n",
       "      <td>Casado</td>\n",
       "      <td>48543.74</td>\n",
       "      <td>321.03</td>\n",
       "    </tr>\n",
       "    <tr>\n",
       "      <th>2</th>\n",
       "      <td>3</td>\n",
       "      <td>Jovem</td>\n",
       "      <td>Feminino</td>\n",
       "      <td>Propria</td>\n",
       "      <td>Solteiro</td>\n",
       "      <td>14760.10</td>\n",
       "      <td>375.03</td>\n",
       "    </tr>\n",
       "    <tr>\n",
       "      <th>3</th>\n",
       "      <td>4</td>\n",
       "      <td>Adulto</td>\n",
       "      <td>Feminino</td>\n",
       "      <td>Alugada</td>\n",
       "      <td>Solteiro</td>\n",
       "      <td>19900.00</td>\n",
       "      <td>262.00</td>\n",
       "    </tr>\n",
       "    <tr>\n",
       "      <th>4</th>\n",
       "      <td>5</td>\n",
       "      <td>Idoso</td>\n",
       "      <td>Masculino</td>\n",
       "      <td>Alugada</td>\n",
       "      <td>Casado</td>\n",
       "      <td>119000.00</td>\n",
       "      <td>278.00</td>\n",
       "    </tr>\n",
       "  </tbody>\n",
       "</table>\n",
       "</div>"
      ],
      "text/plain": [
       "   ID   IDADE       SEXO RESIDENCIA        EC  SALARIO_ANUAL  GASTO_ANUAL\n",
       "0   1   Jovem   Feminino    Alugada  Solteiro       86000.00      1053.00\n",
       "1   2   Jovem   Feminino    Propria    Casado       48543.74       321.03\n",
       "2   3   Jovem   Feminino    Propria  Solteiro       14760.10       375.03\n",
       "3   4  Adulto   Feminino    Alugada  Solteiro       19900.00       262.00\n",
       "4   5   Idoso  Masculino    Alugada    Casado      119000.00       278.00"
      ]
     },
     "execution_count": 22,
     "metadata": {},
     "output_type": "execute_result"
    }
   ],
   "source": [
    "dados.head()"
   ]
  },
  {
   "cell_type": "code",
   "execution_count": 23,
   "metadata": {},
   "outputs": [
    {
     "data": {
      "text/plain": [
       "Index(['ID', 'IDADE', 'SEXO', 'RESIDENCIA', 'EC', 'SALARIO_ANUAL',\n",
       "       'GASTO_ANUAL'],\n",
       "      dtype='object')"
      ]
     },
     "execution_count": 23,
     "metadata": {},
     "output_type": "execute_result"
    }
   ],
   "source": [
    "dados.columns"
   ]
  },
  {
   "cell_type": "code",
   "execution_count": 24,
   "metadata": {},
   "outputs": [],
   "source": [
    "dados.IDADE = dados.IDADE.astype('category')\n",
    "dados.SEXO = dados.SEXO.astype('category')\n",
    "dados.RESIDENCIA = dados.RESIDENCIA.astype('category')\n",
    "dados.EC = dados.EC.astype('category')"
   ]
  },
  {
   "cell_type": "code",
   "execution_count": 25,
   "metadata": {},
   "outputs": [
    {
     "data": {
      "text/plain": [
       "ID                  int64\n",
       "IDADE            category\n",
       "SEXO             category\n",
       "RESIDENCIA       category\n",
       "EC               category\n",
       "SALARIO_ANUAL     float64\n",
       "GASTO_ANUAL       float64\n",
       "dtype: object"
      ]
     },
     "execution_count": 25,
     "metadata": {},
     "output_type": "execute_result"
    }
   ],
   "source": [
    "dados.dtypes"
   ]
  },
  {
   "cell_type": "markdown",
   "metadata": {},
   "source": [
    "## Problema\n",
    "\n",
    "O departamento financeiro da Marvak acredita que os clientes de qualquer filial dessa rede gastaram, em média, mais do que $510$ reais no último ano.\n",
    "\n",
    "Levando em consideração a amostra disponível na base de dados, verifique se há evidências suficiente para afirmar que a suspeita do departamento financeiro procede."
   ]
  },
  {
   "cell_type": "markdown",
   "metadata": {},
   "source": [
    "---\n",
    "\n",
    "<div id=\"q7_a\"></div>\n",
    "\n",
    "**a)** Construção das Hipóteses Nula e Alternativa em termos do problema e do parâmetro. "
   ]
  },
  {
   "cell_type": "markdown",
   "metadata": {},
   "source": [
    "**R.:**"
   ]
  },
  {
   "cell_type": "code",
   "execution_count": null,
   "metadata": {},
   "outputs": [],
   "source": [
    "# Hipótese nula: mu <= 510\n",
    "# Hipótese alternativa: mu > 510"
   ]
  },
  {
   "cell_type": "markdown",
   "metadata": {},
   "source": [
    "---\n",
    "\n",
    "<div id=\"q7_b\"></div>\n",
    "\n",
    "**b)** Cálculo do valor *p* do teste."
   ]
  },
  {
   "cell_type": "markdown",
   "metadata": {},
   "source": [
    "**R.:**"
   ]
  },
  {
   "cell_type": "code",
   "execution_count": 32,
   "metadata": {},
   "outputs": [
    {
     "name": "stdout",
     "output_type": "stream",
     "text": [
      "p-value: 0.03643\n"
     ]
    }
   ],
   "source": [
    "# não sabemos sigma, então usamos t-student\n",
    "\n",
    "med = np.mean(dados.GASTO_ANUAL)\n",
    "sigma = np.std(dados.GASTO_ANUAL)\n",
    "n = len(dados.GASTO_ANUAL)\n",
    "t_obs = (med - 510) / (sigma / n ** 0.5)\n",
    "\n",
    "p_value = 1 - stats.t.cdf(t_obs, df=n-1)\n",
    "print(f\"p-value: {p_value:.5f}\")"
   ]
  },
  {
   "cell_type": "markdown",
   "metadata": {},
   "source": [
    "---\n",
    "\n",
    "<div id=\"q7_c\"></div>\n",
    "\n",
    "**c)** Conclusão em termos do problema, deixando claro quais resultados foram utilizados para tal decisão. "
   ]
  },
  {
   "cell_type": "markdown",
   "metadata": {},
   "source": [
    "**R.:**"
   ]
  },
  {
   "cell_type": "markdown",
   "metadata": {},
   "source": [
    "    Não há evidências para rejeitar a hipótese nula com significância de 1%, visto que o p-value > 0.01"
   ]
  },
  {
   "cell_type": "markdown",
   "metadata": {},
   "source": [
    "---\n",
    "\n",
    "<div id=\"q7_d\"></div>\n",
    "\n",
    "**d)** Qual ou quais suposições foram feitas para a escolha da distribuição utilizada no item **(b)** desta questão. Se há suposição para a distribuição de probabilidades da variáveis de interesse, verifique-a de utilizando algum recurso gráfico. "
   ]
  },
  {
   "cell_type": "markdown",
   "metadata": {},
   "source": [
    "**R.:**"
   ]
  },
  {
   "cell_type": "code",
   "execution_count": 35,
   "metadata": {},
   "outputs": [
    {
     "data": {
      "image/png": "[encoded data removed]",
      "text/plain": [
       "<Figure size 640x480 with 1 Axes>"
      ]
     },
     "metadata": {},
     "output_type": "display_data"
    }
   ],
   "source": [
    "stats.probplot(dados.GASTO_ANUAL, dist=\"norm\", plot=plt);"
   ]
  },
  {
   "cell_type": "markdown",
   "metadata": {},
   "source": [
    "---\n",
    "\n",
    "<div id=\"q8\"></div>\n",
    "\n",
    "# Questão 8\n",
    "## Informações Climáticas"
   ]
  },
  {
   "cell_type": "markdown",
   "metadata": {},
   "source": [
    "<img src=chuva_av_paulista.png width=25% alt=\"Fonte: https://www.flickr.com/photos/8759505@N03/8291327440\">\n",
    "\n"
   ]
  },
  {
   "cell_type": "markdown",
   "metadata": {},
   "source": [
    "### Dados\n",
    "\n",
    "O arquivo de dados, em csv, contém algumas informações climáticas de uma região da Hungria, Szeged, as quais foram mensuradas de hora em hora / diariamente entre 2006 e 2016. \n",
    "\n",
    "Essa base foi extraída no [link](https://www.kaggle.com/budincsevity/szeged-weather/data) da Kaggle, cujo objetivo é comparar a *temperatura histórica real* com a *temperatura decorrente de sabedoria/tradição popular* (em inglês, [weather folklore](https://www.naturalnavigator.com/the-library/weather-lore/)).\n",
    "\n",
    "Algumas das variáveis contidas no *dataset* original **considerando apenas os momentos com chuvisco** são:\n",
    "\n",
    "* `Formatted Date`: data e hora da temperatura\n",
    "* `Temperature (C)`: temperatura real, a qual representa a *temperatura histórica real*\n",
    "* `Apparent Temperature (C)`: temperatura aparente, a qual representa a *temperatura decorrente de sabedoria popular* \n",
    "* `Humidity`: umidade\n",
    "* `Wind Speed (km/h)`: velocidade do vento\n",
    "* `Visibility (km)`: visibilidade\n"
   ]
  },
  {
   "cell_type": "code",
   "execution_count": 36,
   "metadata": {},
   "outputs": [],
   "source": [
    "df1 = pd.read_csv(\"weatherAF.csv\")"
   ]
  },
  {
   "cell_type": "code",
   "execution_count": 37,
   "metadata": {},
   "outputs": [
    {
     "data": {
      "text/html": [
       "<div>\n",
       "<style scoped>\n",
       "    .dataframe tbody tr th:only-of-type {\n",
       "        vertical-align: middle;\n",
       "    }\n",
       "\n",
       "    .dataframe tbody tr th {\n",
       "        vertical-align: top;\n",
       "    }\n",
       "\n",
       "    .dataframe thead th {\n",
       "        text-align: right;\n",
       "    }\n",
       "</style>\n",
       "<table border=\"1\" class=\"dataframe\">\n",
       "  <thead>\n",
       "    <tr style=\"text-align: right;\">\n",
       "      <th></th>\n",
       "      <th>Formatted Date</th>\n",
       "      <th>Temperature (C)</th>\n",
       "      <th>Apparent Temperature (C)</th>\n",
       "      <th>Humidity</th>\n",
       "      <th>Wind Speed (km/h)</th>\n",
       "      <th>Visibility (km)</th>\n",
       "    </tr>\n",
       "  </thead>\n",
       "  <tbody>\n",
       "    <tr>\n",
       "      <th>0</th>\n",
       "      <td>2012-04-12 10:00:00.000 +0200</td>\n",
       "      <td>14.716667</td>\n",
       "      <td>14.716667</td>\n",
       "      <td>0.59</td>\n",
       "      <td>24.7940</td>\n",
       "      <td>11.1090</td>\n",
       "    </tr>\n",
       "    <tr>\n",
       "      <th>1</th>\n",
       "      <td>2012-04-14 13:00:00.000 +0200</td>\n",
       "      <td>12.922222</td>\n",
       "      <td>12.922222</td>\n",
       "      <td>0.89</td>\n",
       "      <td>7.4865</td>\n",
       "      <td>11.1090</td>\n",
       "    </tr>\n",
       "    <tr>\n",
       "      <th>2</th>\n",
       "      <td>2012-04-14 15:00:00.000 +0200</td>\n",
       "      <td>13.833333</td>\n",
       "      <td>13.833333</td>\n",
       "      <td>0.78</td>\n",
       "      <td>8.7101</td>\n",
       "      <td>8.2110</td>\n",
       "    </tr>\n",
       "    <tr>\n",
       "      <th>3</th>\n",
       "      <td>2012-04-17 16:00:00.000 +0200</td>\n",
       "      <td>7.805556</td>\n",
       "      <td>5.155556</td>\n",
       "      <td>0.90</td>\n",
       "      <td>15.4882</td>\n",
       "      <td>10.6743</td>\n",
       "    </tr>\n",
       "    <tr>\n",
       "      <th>4</th>\n",
       "      <td>2012-05-26 16:00:00.000 +0200</td>\n",
       "      <td>17.844444</td>\n",
       "      <td>17.844444</td>\n",
       "      <td>0.58</td>\n",
       "      <td>14.4256</td>\n",
       "      <td>11.1573</td>\n",
       "    </tr>\n",
       "  </tbody>\n",
       "</table>\n",
       "</div>"
      ],
      "text/plain": [
       "                  Formatted Date  Temperature (C)  Apparent Temperature (C)  \\\n",
       "0  2012-04-12 10:00:00.000 +0200        14.716667                 14.716667   \n",
       "1  2012-04-14 13:00:00.000 +0200        12.922222                 12.922222   \n",
       "2  2012-04-14 15:00:00.000 +0200        13.833333                 13.833333   \n",
       "3  2012-04-17 16:00:00.000 +0200         7.805556                  5.155556   \n",
       "4  2012-05-26 16:00:00.000 +0200        17.844444                 17.844444   \n",
       "\n",
       "   Humidity  Wind Speed (km/h)  Visibility (km)  \n",
       "0      0.59            24.7940          11.1090  \n",
       "1      0.89             7.4865          11.1090  \n",
       "2      0.78             8.7101           8.2110  \n",
       "3      0.90            15.4882          10.6743  \n",
       "4      0.58            14.4256          11.1573  "
      ]
     },
     "execution_count": 37,
     "metadata": {},
     "output_type": "execute_result"
    }
   ],
   "source": [
    "df1.head()"
   ]
  },
  {
   "cell_type": "code",
   "execution_count": 38,
   "metadata": {},
   "outputs": [
    {
     "data": {
      "text/plain": [
       "Index(['Formatted Date', 'Temperature (C)', 'Apparent Temperature (C)',\n",
       "       'Humidity', 'Wind Speed (km/h)', 'Visibility (km)'],\n",
       "      dtype='object')"
      ]
     },
     "execution_count": 38,
     "metadata": {},
     "output_type": "execute_result"
    }
   ],
   "source": [
    "df1.columns"
   ]
  },
  {
   "cell_type": "markdown",
   "metadata": {},
   "source": [
    "___"
   ]
  },
  {
   "cell_type": "markdown",
   "metadata": {},
   "source": [
    "Nesta questão, a ideia é avaliar se, em média, há diferença significativa entre as temperaturas real e aparente considerando apenas os momentos com chuvisco."
   ]
  },
  {
   "cell_type": "markdown",
   "metadata": {},
   "source": [
    "O primeiro passo é criar coluna no *dataframe* `df1` que contenha a diferença entre as variáveis `Temperature (C)` e\t`Apparent Temperature (C)`. Dê o nome a essa coluna de `DifTemp`."
   ]
  },
  {
   "cell_type": "code",
   "execution_count": 40,
   "metadata": {},
   "outputs": [],
   "source": [
    "#Cria coluna diferença das temperaturas\n",
    "df1['DifTemp'] = df1['Temperature (C)'] - df1['Apparent Temperature (C)']"
   ]
  },
  {
   "cell_type": "code",
   "execution_count": 41,
   "metadata": {},
   "outputs": [
    {
     "data": {
      "text/html": [
       "<div>\n",
       "<style scoped>\n",
       "    .dataframe tbody tr th:only-of-type {\n",
       "        vertical-align: middle;\n",
       "    }\n",
       "\n",
       "    .dataframe tbody tr th {\n",
       "        vertical-align: top;\n",
       "    }\n",
       "\n",
       "    .dataframe thead th {\n",
       "        text-align: right;\n",
       "    }\n",
       "</style>\n",
       "<table border=\"1\" class=\"dataframe\">\n",
       "  <thead>\n",
       "    <tr style=\"text-align: right;\">\n",
       "      <th></th>\n",
       "      <th>Temperature (C)</th>\n",
       "      <th>Apparent Temperature (C)</th>\n",
       "      <th>DifTemp</th>\n",
       "    </tr>\n",
       "  </thead>\n",
       "  <tbody>\n",
       "    <tr>\n",
       "      <th>0</th>\n",
       "      <td>14.716667</td>\n",
       "      <td>14.716667</td>\n",
       "      <td>0.00</td>\n",
       "    </tr>\n",
       "    <tr>\n",
       "      <th>1</th>\n",
       "      <td>12.922222</td>\n",
       "      <td>12.922222</td>\n",
       "      <td>0.00</td>\n",
       "    </tr>\n",
       "    <tr>\n",
       "      <th>2</th>\n",
       "      <td>13.833333</td>\n",
       "      <td>13.833333</td>\n",
       "      <td>0.00</td>\n",
       "    </tr>\n",
       "    <tr>\n",
       "      <th>3</th>\n",
       "      <td>7.805556</td>\n",
       "      <td>5.155556</td>\n",
       "      <td>2.65</td>\n",
       "    </tr>\n",
       "    <tr>\n",
       "      <th>4</th>\n",
       "      <td>17.844444</td>\n",
       "      <td>17.844444</td>\n",
       "      <td>0.00</td>\n",
       "    </tr>\n",
       "  </tbody>\n",
       "</table>\n",
       "</div>"
      ],
      "text/plain": [
       "   Temperature (C)  Apparent Temperature (C)  DifTemp\n",
       "0        14.716667                 14.716667     0.00\n",
       "1        12.922222                 12.922222     0.00\n",
       "2        13.833333                 13.833333     0.00\n",
       "3         7.805556                  5.155556     2.65\n",
       "4        17.844444                 17.844444     0.00"
      ]
     },
     "execution_count": 41,
     "metadata": {},
     "output_type": "execute_result"
    }
   ],
   "source": [
    "df1[['Temperature (C)', 'Apparent Temperature (C)', 'DifTemp']].head()"
   ]
  },
  {
   "cell_type": "markdown",
   "metadata": {},
   "source": [
    "Agora **responda os itens a seguir**: "
   ]
  },
  {
   "cell_type": "markdown",
   "metadata": {},
   "source": [
    "---\n",
    "\n",
    "<div id=\"q8_a\"></div>\n",
    "\n",
    "**a)** Conforme descrito inicialmente o objetivo é avaliar se, em média, existe diferença  não nula entre a temperatura real e a temperatura aparente nos momentos com chuvisco. "
   ]
  },
  {
   "cell_type": "markdown",
   "metadata": {},
   "source": [
    "Assim, assumindo que $\\mu$ seja a verdadeira média dessa diferença, tem-se as seguintes hipóteses:\n",
    "\n",
    "$H_0: \\mu=0 \\rightarrow $ Não há diferença entre as temperaturas real e aparente nos momentos seco \n",
    "\n",
    "$H_1: \\mu\\neq0 \\rightarrow $ Há diferença entre as temperaturas real e aparente nos momentos seco\n",
    "\n",
    "Escolha uma técnica adequada para testar as hipóteses descritas acima e faça o teste de hipóteses.\n",
    "\n",
    "Considere nível de significância de 5%. Deixe clara sua conclusão.\n",
    "\n",
    "**R.:**"
   ]
  },
  {
   "cell_type": "markdown",
   "metadata": {},
   "source": [
    "---"
   ]
  },
  {
   "cell_type": "code",
   "execution_count": 42,
   "metadata": {},
   "outputs": [
    {
     "name": "stdout",
     "output_type": "stream",
     "text": [
      "Rejeito H0\n"
     ]
    }
   ],
   "source": [
    "# Vamos usar a distribuição t-student, visto que não conhecemos o valor de sigma\n",
    "\n",
    "t_obs = np.mean(df1['DifTemp']) / (np.std(df1['DifTemp']) / np.sqrt(len(df1['DifTemp'])))\n",
    "tc = stats.t.ppf(1 - (0.05/2), df=len(df1['DifTemp'])-1)\n",
    "\n",
    "if abs(t_obs) > tc:\n",
    "    print(\"Rejeito H0\")\n",
    "else:\n",
    "    print(\"Não rejeito H0\")\n"
   ]
  },
  {
   "cell_type": "markdown",
   "metadata": {},
   "source": [
    "---\n",
    "\n",
    "<div id=\"q8_b\"></div>\n",
    "\n",
    "\n",
    "**b)** Qual ou quais suposições foram feitas para a escolha da técnica utilizada no item anterior desta questão?"
   ]
  },
  {
   "cell_type": "markdown",
   "metadata": {},
   "source": [
    "**R.:** Que a diferença de temperatura segue uma distribuição normal."
   ]
  },
  {
   "cell_type": "code",
   "execution_count": 43,
   "metadata": {},
   "outputs": [
    {
     "data": {
      "image/png": "[encoded data removed]",
      "text/plain": [
       "<Figure size 640x480 with 1 Axes>"
      ]
     },
     "metadata": {},
     "output_type": "display_data"
    }
   ],
   "source": [
    "stats.probplot(df1['DifTemp'], dist=\"norm\", plot=plt);"
   ]
  },
  {
   "cell_type": "markdown",
   "metadata": {},
   "source": [
    "___"
   ]
  },
  {
   "cell_type": "markdown",
   "metadata": {},
   "source": [
    "<div id=\"q9\"></div>\n",
    "\n",
    "# Questão 9\n",
    "## Lobos Cinzentos"
   ]
  },
  {
   "cell_type": "markdown",
   "metadata": {},
   "source": [
    "<img src=\"coywolf.png\" alt=\"Fonte: https://www.youtube.com/watch?v=nNWCDpW6T4c\" width=\"200\">\n",
    "\n",
    "\n",
    "Você é o biólogo chefe de uma reserva ambiental que tem, entre outros animais, lobos cinzentos. \n",
    "\n",
    "De acordo com as regulações de seu país, os animais da fauna nativa original do país devem ser protegidos.\n",
    "\n",
    "Sabe-se que em regiões próximas à sua área os lobos têm cruzado com coiotes. O cruzamento entre lobo e  coiote gera um animal híbrido chamado  *coywolf*. Um *coywolf* se adapta melhor perto de populações humanas, mas não é da fauna original, portanto não tem proteção garantida por lei. \n",
    "\n",
    "\n",
    "Os lobos são maiores e mais pesados que os *coywolves*, sabe-se que antes da suspeita de hibridização a população de lobos de sua reserva era normalmente distribuída com peso médio de $37.5 kg$ e desvio padrão de $14.0$.\n",
    "\n",
    "Você pesou alguns animais escolhidos aleatoriamente e chegou aos seguintes valores."
   ]
  },
  {
   "cell_type": "code",
   "execution_count": 44,
   "metadata": {},
   "outputs": [],
   "source": [
    "animais = [16.0, 41.2, 41.7, 30.1, 13.3, 22.3, 32.5, 33.4, 25.6, 18.8, 31.0, 24.5]"
   ]
  },
  {
   "cell_type": "markdown",
   "metadata": {},
   "source": [
    "Olhando para essa lista de pesos, você suspeita que os animais estão leves demais em relação ao que se conhecia anteriormente. Será que houve hibridização? Deseja-se saber se a média de peso dos lobos da reserva diminuiu, ou seja: se há indicios de ter realmente ocorrido hibridização. Neste exercício você deverá montar e concluir o teste de hipóteses com um nível de significância de $2\\%$ seguindo as etapas:"
   ]
  },
  {
   "cell_type": "markdown",
   "metadata": {},
   "source": [
    "---\n",
    "\n",
    "<div id=\"q9_a\"></div>\n",
    "\n",
    "**a.** Escreva a hipótese nula e a hipótese alternativa (pode ser em português, sem notação matemática) "
   ]
  },
  {
   "cell_type": "markdown",
   "metadata": {},
   "source": [
    "Símbolos úteis (se precisar e quiser usar) $H_0$ $H_1$ $\\mu$ $>$ $<$ $\\leq$ $\\geq$ $\\neq$"
   ]
  },
  {
   "cell_type": "markdown",
   "metadata": {},
   "source": [
    "$H_0$ $\\geq$ $37.5kg$\n",
    "\n",
    "$H_1$ $<$ $37.5kg$"
   ]
  },
  {
   "cell_type": "markdown",
   "metadata": {},
   "source": [
    "---\n",
    "\n",
    "<div id=\"q9_b\"></div>\n",
    "\n",
    "**b.** Calcule os valores necessários e conclua o teste. Deixe claro em que se baseou sua conclusão e o que decidiu sobre as hipóteses"
   ]
  },
  {
   "cell_type": "code",
   "execution_count": 46,
   "metadata": {},
   "outputs": [
    {
     "name": "stdout",
     "output_type": "stream",
     "text": [
      "p-value: 0.00683\n",
      "Rejeito H0\n"
     ]
    }
   ],
   "source": [
    "p_value = stats.norm.cdf(np.mean(animais), loc=37.5, scale=14/np.sqrt(len(animais)))\n",
    "print(f\"p-value: {p_value:.5f}\")\n",
    "\n",
    "if p_value < 0.02:\n",
    "    print(\"Rejeito H0\")\n",
    "else:\n",
    "    print(\"Não rejeito H0\")"
   ]
  },
  {
   "cell_type": "markdown",
   "metadata": {},
   "source": [
    "---\n",
    "\n",
    "<div id=\"q9_c\"></div>\n",
    "\n",
    "**c.** No caso particular da hibridização dos lobos da reserva, interprete o que significa cometer um erro do tipo 1. Também indique qual é a probabilidade de cometer um erro do tipo 1 neste problema "
   ]
  },
  {
   "cell_type": "code",
   "execution_count": 48,
   "metadata": {},
   "outputs": [
    {
     "data": {
      "text/plain": [
       "0.023851764341508486"
      ]
     },
     "execution_count": 48,
     "metadata": {},
     "output_type": "execute_result"
    }
   ],
   "source": [
    "# Um erro tipo 1 acontece quando rejeitamos H0, mesmo ele sendo verdadeiro. Ou seja, seria classificar um lobo\n",
    "# como um coywolf. O erro tipo 1 é chamado de erro alfa.\n",
    "\n",
    "# o erro tipo 1 é igual ao nível de significância, ou seja, 2%."
   ]
  }
 ],
 "metadata": {
  "kernelspec": {
   "display_name": "Python 3.10.7 64-bit",
   "language": "python",
   "name": "python3"
  },
  "language_info": {
   "codemirror_mode": {
    "name": "ipython",
    "version": 3
   },
   "file_extension": ".py",
   "mimetype": "text/x-python",
   "name": "python",
   "nbconvert_exporter": "python",
   "pygments_lexer": "ipython3",
   "version": "3.10.7"
  },
  "vscode": {
   "interpreter": {
    "hash": "3a6acde2cd596d0abfe0079f431f8954b4715d54fd8c6b3c6729efc3bb7850b6"
   }
  }
 },
 "nbformat": 4,
 "nbformat_minor": 4
}
