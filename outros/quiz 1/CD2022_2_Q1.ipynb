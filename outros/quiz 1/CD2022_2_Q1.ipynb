{
 "cells": [
  {
   "cell_type": "markdown",
   "metadata": {},
   "source": [
    "___\n",
    "# A1 - Avaliação de Ciência dos dados \n",
    "\n",
    "## 2022 - 2o. semestre \n",
    "\n",
    "___\n"
   ]
  },
  {
   "cell_type": "markdown",
   "metadata": {},
   "source": [
    "## NOME: Bruno Zalcberg"
   ]
  },
  {
   "cell_type": "code",
   "execution_count": 1,
   "metadata": {},
   "outputs": [],
   "source": [
    "# %matplotlib inline\n",
    "import math\n",
    "from math import sqrt\n",
    "\n",
    "import os\n",
    "import matplotlib.pyplot as plt\n",
    "import numpy as np\n",
    "from numpy import arange\n",
    "import pandas as pd\n",
    "\n",
    "from IPython.display import display  # Para ter melhor print.\n",
    "\n",
    "# Pode trazer mais bibliotecas, caso julgue interessante!!"
   ]
  },
  {
   "cell_type": "markdown",
   "metadata": {},
   "source": [
    "<div id=\"indice\"></div>\n",
    "\n",
    "## Índice\n",
    "\n",
    "1. [Pergunta 1](#p1)\n",
    "\n",
    "1. [Pergunta 2](#p2)\n",
    "\n",
    "1. [Pergunta 3](#p3)\n",
    "\n",
    "1. [Pergunta 4](#p4)\n",
    "\n",
    "1. [Pergunta 5](#p5)\n",
    "\n",
    "1. [Pergunta 6](#p5)"
   ]
  },
  {
   "cell_type": "markdown",
   "metadata": {},
   "source": [
    "<div id=\"abrindo-arquivo\"></div>\n",
    "\n",
    "___\n",
    "\n",
    "**Abrindo um arquivo de dados e visualizando seu conteúdo:**\n"
   ]
  },
  {
   "cell_type": "code",
   "execution_count": 2,
   "metadata": {},
   "outputs": [
    {
     "name": "stdout",
     "output_type": "stream",
     "text": [
      "Esperamos trabalhar no diretório: \n",
      "D:\\main\\edu\\insper\\cdados\\quiz1\n",
      "\n"
     ]
    }
   ],
   "source": [
    "print(f'Esperamos trabalhar no diretório: \\n{os.getcwd()}\\n')"
   ]
  },
  {
   "cell_type": "code",
   "execution_count": 3,
   "metadata": {
    "scrolled": false
   },
   "outputs": [
    {
     "name": "stdout",
     "output_type": "stream",
     "text": [
      "Parece que o arquivo ds_salaries.xlsx está na mesma pasta do notebook, yay!\n"
     ]
    }
   ],
   "source": [
    "filename_ds = 'ds_salaries.xlsx'\n",
    "\n",
    "if filename_ds in os.listdir():\n",
    "    print(f'Parece que o arquivo {filename_ds} está na mesma pasta do notebook, yay!')\n",
    "    \n",
    "else:\n",
    "    print(f'Não encontrei o arquivo {filename_ds}. Lembre-se que precisa estar na mesma pasta do arquivo notebook')"
   ]
  },
  {
   "cell_type": "markdown",
   "metadata": {},
   "source": [
    "Abrindo a base de dados:"
   ]
  },
  {
   "cell_type": "code",
   "execution_count": 4,
   "metadata": {
    "scrolled": false
   },
   "outputs": [],
   "source": [
    "df_sal = pd.read_excel(filename_ds)"
   ]
  },
  {
   "cell_type": "markdown",
   "metadata": {},
   "source": [
    "Avaliando as 3 primeiras linhas da base de dados:"
   ]
  },
  {
   "cell_type": "code",
   "execution_count": 5,
   "metadata": {
    "scrolled": true
   },
   "outputs": [
    {
     "data": {
      "text/html": [
       "<div>\n",
       "<style scoped>\n",
       "    .dataframe tbody tr th:only-of-type {\n",
       "        vertical-align: middle;\n",
       "    }\n",
       "\n",
       "    .dataframe tbody tr th {\n",
       "        vertical-align: top;\n",
       "    }\n",
       "\n",
       "    .dataframe thead th {\n",
       "        text-align: right;\n",
       "    }\n",
       "</style>\n",
       "<table border=\"1\" class=\"dataframe\">\n",
       "  <thead>\n",
       "    <tr style=\"text-align: right;\">\n",
       "      <th></th>\n",
       "      <th>work_year</th>\n",
       "      <th>experience_level</th>\n",
       "      <th>employment_type</th>\n",
       "      <th>job_title</th>\n",
       "      <th>salary</th>\n",
       "      <th>salary_currency</th>\n",
       "      <th>salary_in_usd</th>\n",
       "      <th>employee_residence</th>\n",
       "      <th>remote_ratio</th>\n",
       "      <th>company_location</th>\n",
       "      <th>company_size</th>\n",
       "      <th>monthly_expensies</th>\n",
       "    </tr>\n",
       "  </thead>\n",
       "  <tbody>\n",
       "    <tr>\n",
       "      <th>0</th>\n",
       "      <td>2020</td>\n",
       "      <td>MI</td>\n",
       "      <td>FT</td>\n",
       "      <td>Data Scientist</td>\n",
       "      <td>70000</td>\n",
       "      <td>EUR</td>\n",
       "      <td>79833</td>\n",
       "      <td>DE</td>\n",
       "      <td>0</td>\n",
       "      <td>DE</td>\n",
       "      <td>L</td>\n",
       "      <td>1382</td>\n",
       "    </tr>\n",
       "    <tr>\n",
       "      <th>1</th>\n",
       "      <td>2020</td>\n",
       "      <td>SE</td>\n",
       "      <td>FT</td>\n",
       "      <td>Machine Learning Scientist</td>\n",
       "      <td>260000</td>\n",
       "      <td>USD</td>\n",
       "      <td>260000</td>\n",
       "      <td>JP</td>\n",
       "      <td>0</td>\n",
       "      <td>JP</td>\n",
       "      <td>S</td>\n",
       "      <td>1405</td>\n",
       "    </tr>\n",
       "    <tr>\n",
       "      <th>2</th>\n",
       "      <td>2020</td>\n",
       "      <td>SE</td>\n",
       "      <td>FT</td>\n",
       "      <td>Big Data Engineer</td>\n",
       "      <td>85000</td>\n",
       "      <td>GBP</td>\n",
       "      <td>109024</td>\n",
       "      <td>GB</td>\n",
       "      <td>50</td>\n",
       "      <td>GB</td>\n",
       "      <td>M</td>\n",
       "      <td>1441</td>\n",
       "    </tr>\n",
       "  </tbody>\n",
       "</table>\n",
       "</div>"
      ],
      "text/plain": [
       "   work_year experience_level employment_type                   job_title  \\\n",
       "0       2020               MI              FT              Data Scientist   \n",
       "1       2020               SE              FT  Machine Learning Scientist   \n",
       "2       2020               SE              FT           Big Data Engineer   \n",
       "\n",
       "   salary salary_currency  salary_in_usd employee_residence  remote_ratio  \\\n",
       "0   70000             EUR          79833                 DE             0   \n",
       "1  260000             USD         260000                 JP             0   \n",
       "2   85000             GBP         109024                 GB            50   \n",
       "\n",
       "  company_location company_size  monthly_expensies  \n",
       "0               DE            L               1382  \n",
       "1               JP            S               1405  \n",
       "2               GB            M               1441  "
      ]
     },
     "execution_count": 5,
     "metadata": {},
     "output_type": "execute_result"
    }
   ],
   "source": [
    "df_sal.head(3)"
   ]
  },
  {
   "cell_type": "markdown",
   "metadata": {},
   "source": [
    "Avaliando o tipo de cada variável disponível no *dataframe* `df_sal`:"
   ]
  },
  {
   "cell_type": "markdown",
   "metadata": {},
   "source": [
    "[Voltar ao Índice](#indice)"
   ]
  },
  {
   "cell_type": "markdown",
   "metadata": {},
   "source": [
    "___\n",
    "<div id=\"p1\"></div>\n",
    "\n",
    "## PERGUNTA 1: \n",
    "Leia Enunciado no Blackboard. Preencha as respostas no Blackboard! Envie o Notebook antes de finalizar o proctorio!"
   ]
  },
  {
   "cell_type": "code",
   "execution_count": 6,
   "metadata": {},
   "outputs": [
    {
     "name": "stdout",
     "output_type": "stream",
     "text": [
      "Data Scientist                              143\n",
      "Data Engineer                               132\n",
      "Data Analyst                                 97\n",
      "Machine Learning Engineer                    41\n",
      "Research Scientist                           16\n",
      "Data Science Manager                         12\n",
      "Data Architect                               11\n",
      "Big Data Engineer                             8\n",
      "Machine Learning Scientist                    8\n",
      "Principal Data Scientist                      7\n",
      "AI Scientist                                  7\n",
      "Data Science Consultant                       7\n",
      "Director of Data Science                      7\n",
      "Data Analytics Manager                        7\n",
      "ML Engineer                                   6\n",
      "Computer Vision Engineer                      6\n",
      "BI Data Analyst                               6\n",
      "Lead Data Engineer                            6\n",
      "Data Engineering Manager                      5\n",
      "Business Data Analyst                         5\n",
      "Head of Data                                  5\n",
      "Applied Data Scientist                        5\n",
      "Applied Machine Learning Scientist            4\n",
      "Head of Data Science                          4\n",
      "Analytics Engineer                            4\n",
      "Data Analytics Engineer                       4\n",
      "Machine Learning Developer                    3\n",
      "Machine Learning Infrastructure Engineer      3\n",
      "Lead Data Scientist                           3\n",
      "Computer Vision Software Engineer             3\n",
      "Lead Data Analyst                             3\n",
      "Data Science Engineer                         3\n",
      "Principal Data Engineer                       3\n",
      "Principal Data Analyst                        2\n",
      "ETL Developer                                 2\n",
      "Product Data Analyst                          2\n",
      "Director of Data Engineering                  2\n",
      "Financial Data Analyst                        2\n",
      "Cloud Data Engineer                           2\n",
      "Lead Machine Learning Engineer                1\n",
      "NLP Engineer                                  1\n",
      "Head of Machine Learning                      1\n",
      "3D Computer Vision Researcher                 1\n",
      "Data Specialist                               1\n",
      "Staff Data Scientist                          1\n",
      "Big Data Architect                            1\n",
      "Finance Data Analyst                          1\n",
      "Marketing Data Analyst                        1\n",
      "Machine Learning Manager                      1\n",
      "Data Analytics Lead                           1\n",
      "Name: job_title, dtype: int64\n",
      "Data Scientist                              0.235585\n",
      "Data Engineer                               0.217463\n",
      "Data Analyst                                0.159802\n",
      "Machine Learning Engineer                   0.067545\n",
      "Research Scientist                          0.026359\n",
      "Data Science Manager                        0.019769\n",
      "Data Architect                              0.018122\n",
      "Big Data Engineer                           0.013180\n",
      "Machine Learning Scientist                  0.013180\n",
      "Principal Data Scientist                    0.011532\n",
      "AI Scientist                                0.011532\n",
      "Data Science Consultant                     0.011532\n",
      "Director of Data Science                    0.011532\n",
      "Data Analytics Manager                      0.011532\n",
      "ML Engineer                                 0.009885\n",
      "Computer Vision Engineer                    0.009885\n",
      "BI Data Analyst                             0.009885\n",
      "Lead Data Engineer                          0.009885\n",
      "Data Engineering Manager                    0.008237\n",
      "Business Data Analyst                       0.008237\n",
      "Head of Data                                0.008237\n",
      "Applied Data Scientist                      0.008237\n",
      "Applied Machine Learning Scientist          0.006590\n",
      "Head of Data Science                        0.006590\n",
      "Analytics Engineer                          0.006590\n",
      "Data Analytics Engineer                     0.006590\n",
      "Machine Learning Developer                  0.004942\n",
      "Machine Learning Infrastructure Engineer    0.004942\n",
      "Lead Data Scientist                         0.004942\n",
      "Computer Vision Software Engineer           0.004942\n",
      "Lead Data Analyst                           0.004942\n",
      "Data Science Engineer                       0.004942\n",
      "Principal Data Engineer                     0.004942\n",
      "Principal Data Analyst                      0.003295\n",
      "ETL Developer                               0.003295\n",
      "Product Data Analyst                        0.003295\n",
      "Director of Data Engineering                0.003295\n",
      "Financial Data Analyst                      0.003295\n",
      "Cloud Data Engineer                         0.003295\n",
      "Lead Machine Learning Engineer              0.001647\n",
      "NLP Engineer                                0.001647\n",
      "Head of Machine Learning                    0.001647\n",
      "3D Computer Vision Researcher               0.001647\n",
      "Data Specialist                             0.001647\n",
      "Staff Data Scientist                        0.001647\n",
      "Big Data Architect                          0.001647\n",
      "Finance Data Analyst                        0.001647\n",
      "Marketing Data Analyst                      0.001647\n",
      "Machine Learning Manager                    0.001647\n",
      "Data Analytics Lead                         0.001647\n",
      "Name: job_title, dtype: float64\n"
     ]
    }
   ],
   "source": [
    "f_abs = df_sal[\"job_title\"].value_counts()\n",
    "f_rel = df_sal[\"job_title\"].value_counts(normalize=True)\n",
    "\n",
    "print(f_abs)\n",
    "print(f_rel)"
   ]
  },
  {
   "cell_type": "markdown",
   "metadata": {},
   "source": [
    "[Voltar ao Índice](#indice)"
   ]
  },
  {
   "cell_type": "markdown",
   "metadata": {},
   "source": [
    "___\n",
    "<div id=\"p2\"></div>\n",
    "\n",
    "## PERGUNTA 2:\n",
    "Leia Enunciado no Blackboard. Preencha as respostas no Blackboard! Envie o Notebook antes de finalizar o proctorio!"
   ]
  },
  {
   "cell_type": "code",
   "execution_count": 16,
   "metadata": {},
   "outputs": [
    {
     "name": "stdout",
     "output_type": "stream",
     "text": [
      "count       149.0000\n",
      "mean     116779.7517\n",
      "std       80418.6697\n",
      "min        5679.0000\n",
      "25%       70000.0000\n",
      "40%       88923.2000\n",
      "50%       99703.0000\n",
      "75%      150000.0000\n",
      "max      600000.0000\n",
      "Name: salary_in_usd, dtype: float64\n"
     ]
    }
   ],
   "source": [
    "df_sal_2021 = df_sal[(df_sal[\"work_year\"] == 2021) & (df_sal[\"employment_type\"] == \"FT\")]\n",
    "\n",
    "f_abs_2021 = df_sal_2021[\"company_location\"].value_counts()\n",
    "## print(f_abs_2021) US, DE, IN, GB, CA\n",
    "\n",
    "df_sal_2021_2 = df_sal_2021[df_sal_2021[\"company_location\"].isin([\"US\", \"DE\", \"IN\", \"GB\", \"CA\"])]\n",
    "r = (df_sal_2021_2[\"salary_in_usd\"].describe(percentiles=[.25, .4, .5, .75])).round(4)\n",
    "print(r)"
   ]
  },
  {
   "cell_type": "markdown",
   "metadata": {},
   "source": [
    "[Voltar ao Índice](#indice)"
   ]
  },
  {
   "cell_type": "markdown",
   "metadata": {},
   "source": [
    "___\n",
    "<div id=\"p3\"></div>\n",
    "\n",
    "## PERGUNTA 3:\n",
    "Leia Enunciado no Blackboard. Preencha as respostas no Blackboard! Envie o Notebook antes de finalizar o proctorio!"
   ]
  },
  {
   "cell_type": "code",
   "execution_count": 28,
   "metadata": {},
   "outputs": [
    {
     "name": "stdout",
     "output_type": "stream",
     "text": [
      "remote_ratio  0    50   100\n",
      "company_size               \n",
      "L              32   60  106\n",
      "M              79   21  226\n",
      "S              16   18   49\n",
      "\n",
      "\n",
      "remote_ratio     0       50      100\n",
      "company_size                        \n",
      "L             0.0527  0.0988  0.1746\n",
      "M             0.1301  0.0346  0.3723\n",
      "S             0.0264  0.0297  0.0807\n",
      "\n",
      "\n",
      "0.6933\n"
     ]
    }
   ],
   "source": [
    "print(pd.crosstab(df_sal[\"company_size\"], df_sal[\"remote_ratio\"]))\n",
    "print(\"\\n\")\n",
    "print(pd.crosstab(df_sal[\"company_size\"], df_sal[\"remote_ratio\"], normalize=True).round(4))\n",
    "print(\"\\n\")\n",
    "\n",
    "## Continhas manuais pro item A\n",
    "\n",
    "p = 0.3723 / (0.1301 + 0.0346 + 0.3723)\n",
    "print(round(p, 4))"
   ]
  },
  {
   "cell_type": "markdown",
   "metadata": {},
   "source": [
    "[Voltar ao Índice](#indice)"
   ]
  },
  {
   "cell_type": "markdown",
   "metadata": {},
   "source": [
    "<div id=\"p4\"></div>\n",
    "\n",
    "## PERGUNTA 4:\n",
    "Leia Enunciado no Blackboard. Preencha as respostas no Blackboard! Envie o Notebook antes de finalizar o proctorio!"
   ]
  },
  {
   "cell_type": "code",
   "execution_count": 32,
   "metadata": {
    "scrolled": true
   },
   "outputs": [
    {
     "name": "stdout",
     "output_type": "stream",
     "text": [
      "0.961\n"
     ]
    }
   ],
   "source": [
    "df_sal_gb = df_sal[df_sal[\"employee_residence\"] == \"GB\"]\n",
    "corr_gb = df_sal_gb.monthly_expensies.corr(df_sal_gb.salary_in_usd)\n",
    "\n",
    "print(round(corr_gb, 4))"
   ]
  },
  {
   "cell_type": "markdown",
   "metadata": {},
   "source": [
    "[Voltar ao Índice](#indice)"
   ]
  },
  {
   "cell_type": "markdown",
   "metadata": {},
   "source": [
    "<div id=\"p5\"></div>\n",
    "\n",
    "## PERGUNTA 5:\n",
    "Leia Enunciado no Blackboard. Preencha as respostas no Blackboard! Envie o Notebook antes de finalizar o proctorio!"
   ]
  },
  {
   "cell_type": "code",
   "execution_count": 44,
   "metadata": {},
   "outputs": [
    {
     "name": "stdout",
     "output_type": "stream",
     "text": [
      "20.0\n"
     ]
    },
    {
     "name": "stderr",
     "output_type": "stream",
     "text": [
      "C:\\Users\\brun0\\AppData\\Local\\Temp/ipykernel_46568/3265623939.py:2: SettingWithCopyWarning: \n",
      "A value is trying to be set on a copy of a slice from a DataFrame.\n",
      "Try using .loc[row_indexer,col_indexer] = value instead\n",
      "\n",
      "See the caveats in the documentation: https://pandas.pydata.org/pandas-docs/stable/user_guide/indexing.html#returning-a-view-versus-a-copy\n",
      "  df_sal_us[\"salary_in_10kusd\"] = df_sal_us[\"salary_in_usd\"] / 10000\n"
     ]
    },
    {
     "data": {
      "image/png": "[encoded data removed]",
      "text/plain": [
       "<Figure size 432x288 with 1 Axes>"
      ]
     },
     "metadata": {
      "needs_background": "light"
     },
     "output_type": "display_data"
    }
   ],
   "source": [
    "df_sal_us = df_sal[df_sal[\"company_location\"] == \"US\"]\n",
    "df_sal_us[\"salary_in_10kusd\"] = df_sal_us[\"salary_in_usd\"] / 10000\n",
    "\n",
    "faixas = arange(0, 28, 2)\n",
    "plt.hist(df_sal_us.salary_in_10kusd, bins=faixas, color='darkcyan', edgecolor='white')\n",
    "\n",
    "variávelCateg = pd.cut(df_sal_us.salary_in_10kusd, bins=faixas, right=False)\n",
    "variávelCateg.value_counts()\n",
    "\n",
    "d = 40 / 2\n",
    "print(d)"
   ]
  },
  {
   "cell_type": "markdown",
   "metadata": {},
   "source": [
    "[Voltar ao Índice](#indice)"
   ]
  },
  {
   "cell_type": "markdown",
   "metadata": {},
   "source": [
    "<div id=\"p6\"></div>\n",
    "\n",
    "## PERGUNTA 6:\n",
    "Leia Enunciado no Blackboard. Preencha as respostas no Blackboard! Envie o Notebook antes de finalizar o proctorio!"
   ]
  },
  {
   "cell_type": "code",
   "execution_count": 50,
   "metadata": {},
   "outputs": [
    {
     "data": {
      "image/png": "[encoded data removed]",
      "text/plain": [
       "<Figure size 432x288 with 1 Axes>"
      ]
     },
     "metadata": {
      "needs_background": "light"
     },
     "output_type": "display_data"
    }
   ],
   "source": [
    "df_sal_2022 = df_sal[df_sal[\"work_year\"] == 2022]\n",
    "\n",
    "df_sal_2022_0 = df_sal_2022[df_sal_2022[\"remote_ratio\"] == 0]\n",
    "df_sal_2022_50 = df_sal_2022[df_sal_2022[\"remote_ratio\"] == 50]\n",
    "df_sal_2022_100 = df_sal_2022[df_sal_2022[\"remote_ratio\"] == 100]\n",
    "\n",
    "plt.boxplot(df_sal_2022_0.remote_ratio)\n",
    "plt.boxplot(df_sal_2022_50.remote_ratio)\n",
    "plt.boxplot(df_sal_2022_100.remote_ratio)\n",
    "plt.show()"
   ]
  },
  {
   "cell_type": "markdown",
   "metadata": {},
   "source": [
    "[Voltar ao Índice](#indice)"
   ]
  }
 ],
 "metadata": {
  "kernelspec": {
   "display_name": "Python 3 (ipykernel)",
   "language": "python",
   "name": "python3"
  },
  "language_info": {
   "codemirror_mode": {
    "name": "ipython",
    "version": 3
   },
   "file_extension": ".py",
   "mimetype": "text/x-python",
   "name": "python",
   "nbconvert_exporter": "python",
   "pygments_lexer": "ipython3",
   "version": "3.9.7"
  }
 },
 "nbformat": 4,
 "nbformat_minor": 4
}
