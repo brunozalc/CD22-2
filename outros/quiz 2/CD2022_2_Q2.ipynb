{
 "cells": [
  {
   "cell_type": "markdown",
   "metadata": {},
   "source": [
    "___\n",
    "# Quiz 2 - Avaliação Online de Ciência dos dados \n",
    "\n",
    "## 2022 - 2o. semestre \n",
    "\n",
    "___\n"
   ]
  },
  {
   "cell_type": "markdown",
   "metadata": {},
   "source": [
    "# Bruno Zalcberg"
   ]
  },
  {
   "cell_type": "markdown",
   "metadata": {},
   "source": [
    "___\n",
    "# ATENÇÃO:\n",
    "\n",
    "Leia antes todas as instruções colocadas no teste dentro do Blackboard.\n"
   ]
  },
  {
   "cell_type": "code",
   "execution_count": 1,
   "metadata": {},
   "outputs": [],
   "source": [
    "# %matplotlib inline\n",
    "import math\n",
    "from math import sqrt\n",
    "\n",
    "import os\n",
    "import matplotlib.pyplot as plt\n",
    "import numpy as np\n",
    "from numpy import arange, linspace\n",
    "import pandas as pd\n",
    "\n",
    "from scipy import stats\n",
    "from scipy.stats import norm, uniform, expon, probplot\n",
    "\n",
    "from IPython.display import display  # Para ter melhor print.\n",
    "\n",
    "# Pode trazer mais bibliotecas, caso julgue interessante!!"
   ]
  },
  {
   "cell_type": "markdown",
   "metadata": {},
   "source": [
    "<div id=\"indice\"></div>\n",
    "\n",
    "# Índice\n",
    "\n",
    "1. [Pergunta 1](#p1)\n",
    "\n",
    "1. [Pergunta 2](#p2)\n",
    "\n",
    "1. [Pergunta 3](#p3)\n",
    "\n"
   ]
  },
  {
   "cell_type": "markdown",
   "metadata": {},
   "source": [
    "___\n",
    "<div id=\"p1\"></div>\n",
    "\n",
    "## PERGUNTA 1"
   ]
  },
  {
   "cell_type": "markdown",
   "metadata": {},
   "source": [
    "Leia o enunciado da Pergunta 1 descrito no Blackboard."
   ]
  },
  {
   "cell_type": "markdown",
   "metadata": {},
   "source": [
    "**P1(a)** Leia a pergunta no Blackboard."
   ]
  },
  {
   "cell_type": "code",
   "execution_count": 5,
   "metadata": {},
   "outputs": [
    {
     "name": "stdout",
     "output_type": "stream",
     "text": [
      "P1(a): 0.4724\n"
     ]
    }
   ],
   "source": [
    "# pico -> x ~ exponencial(mu = 8)\n",
    "# não-pico -> x ~ normal(mu = 4, var = 0.9 ^ 2)\n",
    "\n",
    "# P1(a) = x > 6 [pico]\n",
    "\n",
    "p1a = 1 - stats.expon.cdf(6, scale=8)\n",
    "print(f'P1(a): {p1a:.4f}')"
   ]
  },
  {
   "cell_type": "markdown",
   "metadata": {},
   "source": [
    "**P1(b)** Leia a pergunta no Blackboard."
   ]
  },
  {
   "cell_type": "code",
   "execution_count": 7,
   "metadata": {},
   "outputs": [
    {
     "name": "stdout",
     "output_type": "stream",
     "text": [
      "P1(a): 0.3127\n"
     ]
    }
   ],
   "source": [
    "# P1(b) = x < 9 | x > 6 [pico]\n",
    "\n",
    "p1b = (stats.expon.cdf(9, scale=8) - stats.expon.cdf(6, scale=8)) / (1 - stats.expon.cdf(6, scale=8))\n",
    "print(f'P1(b): {p1b:.4f}')"
   ]
  },
  {
   "cell_type": "markdown",
   "metadata": {},
   "source": [
    "**P1(c)** Leia a pergunta no Blackboard."
   ]
  },
  {
   "cell_type": "code",
   "execution_count": 8,
   "metadata": {},
   "outputs": [
    {
     "name": "stdout",
     "output_type": "stream",
     "text": [
      "P1(c): 0.8915\n"
     ]
    }
   ],
   "source": [
    "# P1(c) = x <= 5 [não-pico]\n",
    "\n",
    "p1c = stats.norm.cdf(5, loc=4, scale=(0.9 ** 2))\n",
    "print(f'P1(c): {p1c:.4f}')"
   ]
  },
  {
   "cell_type": "markdown",
   "metadata": {},
   "source": [
    "**P1(d)** Leia a pergunta no Blackboard."
   ]
  },
  {
   "cell_type": "code",
   "execution_count": 10,
   "metadata": {},
   "outputs": [
    {
     "name": "stdout",
     "output_type": "stream",
     "text": [
      "P1(d): 0.0920\n"
     ]
    }
   ],
   "source": [
    "p1d = (0.25 * (1 - stats.expon.cdf(8, scale=8))) + (0.75 * (1 - stats.norm.cdf(8, loc=4, scale=(0.9 ** 2))))\n",
    "print(f'P1(d): {p1d:.4f}')"
   ]
  },
  {
   "cell_type": "markdown",
   "metadata": {},
   "source": [
    "**P1(e)** Leia a pergunta no Blackboard."
   ]
  },
  {
   "cell_type": "code",
   "execution_count": 11,
   "metadata": {},
   "outputs": [
    {
     "name": "stdout",
     "output_type": "stream",
     "text": [
      "P1(e): 0.1718\n"
     ]
    }
   ],
   "source": [
    "p1e = 0.25 * (1 - stats.expon.cdf(3, scale=8))\n",
    "print(f'P1(e): {p1e:.4f}')"
   ]
  },
  {
   "cell_type": "code",
   "execution_count": null,
   "metadata": {},
   "outputs": [],
   "source": []
  },
  {
   "cell_type": "markdown",
   "metadata": {},
   "source": [
    "[Voltar ao Índice](#indice)"
   ]
  },
  {
   "cell_type": "markdown",
   "metadata": {},
   "source": [
    "___\n",
    "<div id=\"p2\"></div>\n",
    "\n",
    "\n",
    "## PERGUNTA 2"
   ]
  },
  {
   "cell_type": "markdown",
   "metadata": {},
   "source": [
    "Leia o enunciado da Pergunta 2 descrito no Blackboard."
   ]
  },
  {
   "cell_type": "markdown",
   "metadata": {},
   "source": [
    "**P2(a)** Leia a pergunta no Blackboard."
   ]
  },
  {
   "cell_type": "code",
   "execution_count": 12,
   "metadata": {},
   "outputs": [
    {
     "name": "stdout",
     "output_type": "stream",
     "text": [
      "Prova 1: 9.0000\n",
      "Prova 2: 5.2816\n",
      "Prova 3: 6.8202\n"
     ]
    }
   ],
   "source": [
    "p2a1 = stats.uniform.ppf(0.9, loc=0, scale=10)\n",
    "p2a2 = stats.norm.ppf(0.9, loc=4, scale=1)\n",
    "p2a3 = stats.norm.ppf(0.9, loc=6, scale=(0.8 ** 2))\n",
    "\n",
    "print(f'Prova 1: {p2a1:.4f}' )\n",
    "print(f'Prova 2: {p2a2:.4f}' )\n",
    "print(f'Prova 3: {p2a3:.4f}' )"
   ]
  },
  {
   "cell_type": "markdown",
   "metadata": {},
   "source": [
    "**P2(b)** Leia a pergunta no Blackboard."
   ]
  },
  {
   "cell_type": "code",
   "execution_count": 14,
   "metadata": {},
   "outputs": [
    {
     "name": "stdout",
     "output_type": "stream",
     "text": [
      "Média: 5.1500\n",
      "DP: 2.2694\n"
     ]
    }
   ],
   "source": [
    "p2b1 = 0.25 * stats.uniform.mean(loc=0, scale=10) + 0.3 * stats.norm.mean(loc=4, scale=1) +  0.45 * stats.norm.mean(loc=6, scale=(0.8 ** 2))\n",
    "p2b2 = ((0.25 ** 2) * stats.uniform.var(loc=0, scale=10)) + ((0.3 ** 2) * stats.norm.var(loc=4, scale=1)) +  ((0.45 ** 2) * stats.norm.var(loc=6, scale=(0.8 ** 2)))\n",
    "\n",
    "print(f'Média: {p2b1:.4f}')\n",
    "print(f'DP: {sqrt(p2b1):.4f}')"
   ]
  },
  {
   "cell_type": "markdown",
   "metadata": {},
   "source": [
    "**P2(c)** Leia a pergunta no Blackboard."
   ]
  },
  {
   "cell_type": "code",
   "execution_count": 15,
   "metadata": {},
   "outputs": [
    {
     "name": "stdout",
     "output_type": "stream",
     "text": [
      "Sigma: 6.3951\n"
     ]
    }
   ],
   "source": [
    "# P(X <= 6.5) = 0.7\n",
    "z = stats.norm.ppf(0.7)\n",
    "sigma = (6.5 / z) - 6\n",
    "print(f'Sigma: {sigma:.4f}')"
   ]
  },
  {
   "cell_type": "markdown",
   "metadata": {},
   "source": [
    "[Voltar ao Índice](#indice)"
   ]
  },
  {
   "cell_type": "markdown",
   "metadata": {},
   "source": [
    "___\n",
    "<div id=\"p3\"></div>\n",
    "\n",
    "\n",
    "## PERGUNTA 3"
   ]
  },
  {
   "cell_type": "markdown",
   "metadata": {},
   "source": [
    "Leia o enunciado da Pergunta 3 descrito no Blackboard."
   ]
  },
  {
   "cell_type": "markdown",
   "metadata": {},
   "source": [
    "**P3(a)** Leia a pergunta no Blackboard."
   ]
  },
  {
   "cell_type": "code",
   "execution_count": 16,
   "metadata": {},
   "outputs": [
    {
     "name": "stdout",
     "output_type": "stream",
     "text": [
      "DP: 44.5533\n"
     ]
    }
   ],
   "source": [
    "p3a = (40 ** 2) + (55 ** 2) - (2 * 1320)\n",
    "print(f'DP: {sqrt(p3a):.4f}')"
   ]
  },
  {
   "cell_type": "markdown",
   "metadata": {},
   "source": [
    "**P3(b)** Leia a pergunta no Blackboard."
   ]
  },
  {
   "cell_type": "code",
   "execution_count": 17,
   "metadata": {},
   "outputs": [
    {
     "name": "stdout",
     "output_type": "stream",
     "text": [
      "P3(b): 0.5080\n"
     ]
    }
   ],
   "source": [
    "p3b = stats.norm.cdf(440, loc=400, scale=p3a)\n",
    "print(f'P3(b): {p3b:.4f}')"
   ]
  },
  {
   "cell_type": "markdown",
   "metadata": {},
   "source": [
    "[Voltar ao Índice](#indice)"
   ]
  }
 ],
 "metadata": {
  "kernelspec": {
   "display_name": "Python 3.10.7 64-bit",
   "language": "python",
   "name": "python3"
  },
  "language_info": {
   "codemirror_mode": {
    "name": "ipython",
    "version": 3
   },
   "file_extension": ".py",
   "mimetype": "text/x-python",
   "name": "python",
   "nbconvert_exporter": "python",
   "pygments_lexer": "ipython3",
   "version": "3.10.7"
  },
  "vscode": {
   "interpreter": {
    "hash": "3a6acde2cd596d0abfe0079f431f8954b4715d54fd8c6b3c6729efc3bb7850b6"
   }
  }
 },
 "nbformat": 4,
 "nbformat_minor": 4
}
