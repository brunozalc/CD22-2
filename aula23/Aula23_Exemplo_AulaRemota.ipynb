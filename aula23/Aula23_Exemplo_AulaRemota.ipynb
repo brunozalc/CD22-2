{
 "cells": [
  {
   "cell_type": "markdown",
   "metadata": {},
   "source": [
    "___\n",
    "# Exemplo: Teste de hipóteses\n",
    "\n",
    "___\n",
    "## Aula 23\n"
   ]
  },
  {
   "cell_type": "code",
   "execution_count": 1,
   "metadata": {},
   "outputs": [],
   "source": [
    "from scipy import stats\n",
    "from math import sqrt"
   ]
  },
  {
   "cell_type": "markdown",
   "metadata": {},
   "source": [
    "___\n",
    "## Problema - Aulas remotas\n",
    "\n",
    "Nas épocas de aulas presenciais, a distribuição de probabilidades das notas em determinada prova historicamente se comportava como uma normal com média igual a 6 e desvio padrão igual a 0,8. \n",
    "\n",
    "Devido ao novo formato de alunas remotas, alguns especialistas desconfiam que a nota média nessa prova tenha aumentado. Ainda, segundo esses especialistas, não existem razões para acreditar em alterações no valor do desvio padrão, na distribuição de probabilidades da variável de interesse e nem que a média tenha diminuído.\n",
    "\n",
    "Como verificar se os especialistas estão certos a partir de uma amostra de 36 alunos?\n"
   ]
  },
  {
   "cell_type": "markdown",
   "metadata": {},
   "source": [
    "**Faça:**\n",
    "\n",
    "Descreva:\n",
    " * Variável de interesse $X$;\n",
    " * Parâmetro de interesse (valor numérico populacional, usualmente, desconhecido);\n",
    " * Hipóteses nula e alternativa em termos do problema e em termos do parâmetro; e \n",
    " * Distribuição de $\\bar{X}$ sob $H_0$:"
   ]
  },
  {
   "cell_type": "markdown",
   "metadata": {},
   "source": [
    "X é a nota da prova remota.\n",
    "\n",
    "$\\mu$ é a média de notas nas provas remotas.\n",
    "\n",
    "$H_0$: $\\mu$ = 6 e $H_A$: $\\mu$ > 6\n",
    "\n",
    "$\\bar{X}$ ~ Normal($\\mu$, $\\frac{0.8 ^ 2}{36}$)"
   ]
  },
  {
   "cell_type": "markdown",
   "metadata": {},
   "source": [
    "**Continuação...**\n",
    "\n",
    "Supondo $H_0$ verdadeira, ou seja, 𝜇=6 e selecionando uma amostra aleatória de 𝑛=36 provas.\n",
    "Encontre 𝑐 tal que 𝛼 seja igual a 5%."
   ]
  },
  {
   "cell_type": "code",
   "execution_count": 6,
   "metadata": {},
   "outputs": [
    {
     "name": "stdout",
     "output_type": "stream",
     "text": [
      "6.219313816926863\n"
     ]
    }
   ],
   "source": [
    "c = stats.norm.ppf(1 - 0.05, 6, scale=0.8 / sqrt(36))\n",
    "print(c)"
   ]
  },
  {
   "cell_type": "markdown",
   "metadata": {},
   "source": [
    "**Continuação...**\n",
    "\n",
    "Fato: Uma amostra aleatória de 𝑛=36 provas foi selecionada no momento com as aulas remotas e foi observada uma média amostral igual a 6,5 (**estimativa**). Qual sua conclusão com relação ao problema?\n"
   ]
  },
  {
   "cell_type": "code",
   "execution_count": 4,
   "metadata": {},
   "outputs": [],
   "source": [
    "# c é o x critico\n",
    "# se x > c, rejeita H0"
   ]
  },
  {
   "cell_type": "markdown",
   "metadata": {},
   "source": [
    "Como $6.5 > c$, deve-se rejeitar a $H_0$. Ou seja, há indícios que houve, de fato, um aumento na nota média amostral."
   ]
  }
 ],
 "metadata": {
  "kernelspec": {
   "display_name": "Python 3.10.2 64-bit",
   "language": "python",
   "name": "python3"
  },
  "language_info": {
   "codemirror_mode": {
    "name": "ipython",
    "version": 3
   },
   "file_extension": ".py",
   "mimetype": "text/x-python",
   "name": "python",
   "nbconvert_exporter": "python",
   "pygments_lexer": "ipython3",
   "version": "3.10.2"
  },
  "vscode": {
   "interpreter": {
    "hash": "3a6acde2cd596d0abfe0079f431f8954b4715d54fd8c6b3c6729efc3bb7850b6"
   }
  }
 },
 "nbformat": 4,
 "nbformat_minor": 2
}
